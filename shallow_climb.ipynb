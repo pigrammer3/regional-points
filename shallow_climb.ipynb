{
 "cells": [
  {
   "cell_type": "code",
   "execution_count": 1,
   "metadata": {},
   "outputs": [],
   "source": [
    "from collections import defaultdict\n",
    "from tqdm.notebook import tqdm, trange\n",
    "from typing import NamedTuple, TypedDict, Literal, NotRequired\n",
    "from tba_session import session, ROOT_URL"
   ]
  },
  {
   "cell_type": "code",
   "execution_count": 2,
   "metadata": {},
   "outputs": [],
   "source": [
    "YEAR = 2025"
   ]
  },
  {
   "cell_type": "code",
   "execution_count": 3,
   "metadata": {},
   "outputs": [],
   "source": [
    "class TeamEventOPR(NamedTuple):\n",
    "    team: str\n",
    "    event: str\n",
    "    opr: float\n",
    "    week: int\n",
    "    regional_points: int\n",
    "\n",
    "class DistrictList(TypedDict):\n",
    "    abbreviation: str\n",
    "    display_name: str\n",
    "    key: str\n",
    "    year: int\n",
    "\n",
    "class Webcast(TypedDict):\n",
    "    type: Literal[\"youtube\", \"twitch\", \"ustream\",\n",
    "                  \"iframe\", \"html5\", \"rtmp\", \"livestream\", \"direct_link\",\n",
    "                  \"mms\", \"justin\", \"stemtv\", \"dacast\"]\n",
    "    channel: str\n",
    "    date: str | None\n",
    "    file: str | None\n",
    "\n",
    "class Event(TypedDict):\n",
    "    key: str\n",
    "    name: str\n",
    "    event_code: str\n",
    "    event_type: int\n",
    "    district: DistrictList | None\n",
    "    city: str | None\n",
    "    state_prov: str | None\n",
    "    country: str | None\n",
    "    start_date: str\n",
    "    end_date: str\n",
    "    year: int\n",
    "    short_name: str | None\n",
    "    event_type_string: str\n",
    "    week: int\n",
    "    address: str | None\n",
    "    postal_code: str | None\n",
    "    gmaps_place_id: str | None\n",
    "    gmaps_url: str | None\n",
    "    lat: float | None\n",
    "    lng: float | None\n",
    "    location_name: str | None\n",
    "    timezone: str\n",
    "    website: str | None\n",
    "    first_event_id: str | None\n",
    "    first_event_code: str | None\n",
    "    webcasts: list[Webcast]\n",
    "    division_keys: list[str]\n",
    "    parent_event_key: str | None\n",
    "    playoff_type: int | None\n",
    "    playoff_type_string: str | None\n",
    "\n",
    "class Team(TypedDict):\n",
    "    key: str\n",
    "    team_number: int\n",
    "    nickname: str\n",
    "    name: str\n",
    "    school_name: str | None\n",
    "    city: str | None\n",
    "    state_prov: str | None\n",
    "    country: str | None\n",
    "    address: str | None\n",
    "    postal_code: str | None\n",
    "    gmaps_place_id: str | None\n",
    "    gmaps_url: str | None\n",
    "    lat: float | None\n",
    "    lng: float | None\n",
    "    location_name: str | None\n",
    "    website: NotRequired[str | None]\n",
    "    rookie_year: int | None\n",
    "\n",
    "class PointsAtEventForTeam(TypedDict):\n",
    "    total: int\n",
    "    alliance_points: int\n",
    "    elim_points: int\n",
    "    award_points: int\n",
    "    qual_points: int\n",
    "\n",
    "class TiebrakersAtEventForTeam(TypedDict):\n",
    "    highest_qual_scores: list[int]\n",
    "    qual_wins: list[int]\n",
    "\n",
    "class DistrictPoints(TypedDict):\n",
    "    points: dict[str, PointsAtEventForTeam]\n",
    "    tiebreakers: dict[str, TiebrakersAtEventForTeam]\n",
    "\n",
    "class OPRs(TypedDict):\n",
    "    oprs: dict[str, float]\n",
    "    dprs: dict[str, float]\n",
    "    ccwms: dict[str, float]"
   ]
  },
  {
   "cell_type": "code",
   "execution_count": 4,
   "metadata": {},
   "outputs": [
    {
     "data": {
      "application/vnd.jupyter.widget-view+json": {
       "model_id": "de797f16f0c24f349a253cbd5da8934d",
       "version_major": 2,
       "version_minor": 0
      },
      "text/plain": [
       "  0%|          | 0/222 [00:00<?, ?it/s]"
      ]
     },
     "metadata": {},
     "output_type": "display_data"
    }
   ],
   "source": [
    "EVENTS: list[Event] = session.get(ROOT_URL + f\"/events/{YEAR}\").json()\n",
    "\n",
    "deep_climbs = defaultdict(int)\n",
    "shallow_climbs = defaultdict(int)\n",
    "parks = defaultdict(int)\n",
    "nones = defaultdict(int)\n",
    "\n",
    "skipped = 0\n",
    "\n",
    "did_not_meet = 0\n",
    "met_but_would_not = 0\n",
    "met_and_would = 0\n",
    "\n",
    "trough_count: dict[str, tuple[int, str, str, str]] = {}\n",
    "\n",
    "events_by_code = {event[\"key\"]: event for event in EVENTS}\n",
    "\n",
    "for event in tqdm(EVENTS):\n",
    "    for match in session.get(\n",
    "        f\"{ROOT_URL}/event/{event['key']}/matches\"\n",
    "    ).json():\n",
    "        if match[\"score_breakdown\"] is None:\n",
    "            skipped += 1\n",
    "            continue\n",
    "        for alliance in (\"red\", \"blue\"):\n",
    "            shallow_climb_count = 0\n",
    "            deep_climb_count = 0\n",
    "            for i in range(3):\n",
    "                climb = match[\"score_breakdown\"][alliance][\"endGameRobot\" + str(i + 1)]\n",
    "                team_key = match[\"alliances\"][alliance][\"team_keys\"][i]\n",
    "                nones[team_key] += climb == \"None\"\n",
    "                parks[team_key] += climb == \"Parked\"\n",
    "                shallow_climbs[team_key] += climb == \"ShallowCage\"\n",
    "                deep_climbs[team_key] += climb == \"DeepCage\"\n",
    "                shallow_climb_count += climb == \"ShallowCage\"\n",
    "                deep_climb_count += climb == \"DeepCage\"\n",
    "            if match[\"comp_level\"] == \"qm\":\n",
    "                barge_points = match[\"score_breakdown\"][alliance][\"endGameBargePoints\"]\n",
    "                did_not_meet += barge_points < 14\n",
    "                met_but_would_not += 14 <= barge_points < 16\n",
    "                met_and_would += barge_points >= 16\n",
    "            trough_count[alliance + \" \" + match[\"key\"]] = (\n",
    "                # match[\"score_breakdown\"][alliance][\"autoReef\"][\"trough\"]\n",
    "                # + match[\"score_breakdown\"][alliance][\"teleopReef\"][\"trough\"],\n",
    "                # match[\"score_breakdown\"][alliance][\"wallAlgaeCount\"],\n",
    "                + match[\"score_breakdown\"][alliance][\"netAlgaeCount\"],\n",
    "                *match[\"alliances\"][alliance][\"team_keys\"],\n",
    "            )\n",
    "            # if shallow_climb_count >= 1 and deep_climb_count >= 1:\n",
    "            #     print(match[\"key\"], alliance, deep_climb_count, \"deep climb\" + (\"\" if deep_climb_count == 1 else \"s\"), \"and\", shallow_climb_count, \"shallow climb\" + (\"\" if shallow_climb_count == 1 else \"s\"))\n",
    "\n",
    "ACTUAL_WORLDS_TEAMS = set()\n",
    "\n",
    "for event in filter(\n",
    "    lambda event: event[\"event_type\"] == 3 or event[\"event_type\"] == 4, EVENTS\n",
    "):\n",
    "    ACTUAL_WORLDS_TEAMS.update(\n",
    "        session.get(\n",
    "            ROOT_URL + f\"/event/{event['key']}/teams/keys\"\n",
    "        ).json()\n",
    "    )"
   ]
  },
  {
   "cell_type": "code",
   "execution_count": 5,
   "metadata": {},
   "outputs": [
    {
     "name": "stdout",
     "output_type": "stream",
     "text": [
      "frc5216: 11 shallow climbs\n",
      "frc1511: 7 shallow climbs\n",
      "frc10466: 16 shallow climbs\n",
      "frc3880: 1 shallow climbs\n",
      "frc973: 1 shallow climbs\n",
      "frc4680: 10 shallow climbs\n",
      "frc2200: 12 shallow climbs\n",
      "frc10157: 24 shallow climbs\n"
     ]
    }
   ],
   "source": [
    "for team_key, count in shallow_climbs.items():\n",
    "    if count > 0 and team_key in ACTUAL_WORLDS_TEAMS:\n",
    "        print(f\"{team_key}: {count} shallow climbs\")"
   ]
  },
  {
   "cell_type": "code",
   "execution_count": 6,
   "metadata": {},
   "outputs": [
    {
     "data": {
      "text/plain": [
       "(8475, 0.28591188178935295)"
      ]
     },
     "execution_count": 6,
     "metadata": {},
     "output_type": "execute_result"
    }
   ],
   "source": [
    "met_and_would, met_and_would / (met_and_would + did_not_meet + met_but_would_not)"
   ]
  },
  {
   "cell_type": "code",
   "execution_count": 7,
   "metadata": {},
   "outputs": [
    {
     "name": "stdout",
     "output_type": "stream",
     "text": [
      "Blue\t2470, 3100, 1816\t18\t[Playoffs 10 at Minnesota North Star Regional](https://thebluealliance.com/match/2025mnum_sf10m1)\n",
      "Red\t1731, 686, 620\t17\t[Playoffs 6 at FIRST Chesapeake District Championship presented by Qualcomm](https://thebluealliance.com/match/2025chcmp_sf6m1)\n",
      "Red\t8612, 5535, 4004\t16\t[Playoffs 9 at FIM District Ferris State Event presented by Ferris State](https://thebluealliance.com/match/2025mibig_sf9m1)\n",
      "Blue\t102, 5401, 1391\t16\t[Quals 46 at FIRST Mid-Atlantic District Championship](https://thebluealliance.com/match/2025mrcmp_qm46)\n",
      "Red\t9654, 112, 10435\t15\t[Quals 26 at Midwest Regional](https://thebluealliance.com/match/2025ilch_qm26)\n",
      "Blue\t9431, 4485, 3865\t15\t[Quals 12 at FIN District Lafayette Event](https://thebluealliance.com/match/2025inlaf_qm12)\n",
      "Red\t3100, 5903, 1619\t15\t[Playoffs 2 at Lake Superior Regional](https://thebluealliance.com/match/2025mndu_sf2m1)\n",
      "Blue\t3100, 3871, 7019\t15\t[Quals 6 at Minnesota North Star Regional](https://thebluealliance.com/match/2025mnum_qm6)\n",
      "Blue\t3130, 5913, 3206\t15\t[Playoffs 12 at Minnesota North Star Regional](https://thebluealliance.com/match/2025mnum_sf12m1)\n",
      "Red\t8085, 5813, 1768\t15\t[Playoffs 12 at New England FIRST District Championship - Sosik Division presented by GE Aerospace](https://thebluealliance.com/match/2025necmp2_sf12m1)\n",
      "Red\t3683, 10554, 9263\t15\t[Quals 39 at FIRST Ontario Provincial Championship - Science Division](https://thebluealliance.com/match/2025oncmp1_qm39)\n",
      "Red\t3683, 4678, 9263\t15\t[Playoffs 1 at ONT District University of Waterloo Event](https://thebluealliance.com/match/2025onwat_sf1m1)\n",
      "Red\t8024, 3197, 2526\t15\t[Quals 41 at Seven Rivers Regional](https://thebluealliance.com/match/2025wila_qm41)\n"
     ]
    }
   ],
   "source": [
    "for alliance_key, count, teams in sorted(\n",
    "    [\n",
    "        (alliance_key, count[0], count[1:])\n",
    "        for alliance_key, count in trough_count.items()\n",
    "    ],\n",
    "    key=lambda x: x[1],\n",
    "    reverse=True,\n",
    ")[:13]:\n",
    "    event_key = alliance_key.split(\" \")[1].split(\"_\")[0]\n",
    "    match_key = alliance_key.split(\" \")[1].split(\"_\")[1]\n",
    "    event = events_by_code[event_key]\n",
    "    print(\n",
    "        f\"{alliance_key.split(' ')[0].capitalize()}\\t{', '.join(team[3:] for team in teams)}\\t{count}\\t[{'Playoffs ' + match_key[2:-2] if match_key.startswith('sf') else 'Finals ' + match_key[-1] if match_key.startswith('f') else 'Quals ' + match_key[2:]} at {event['name']}](https://thebluealliance.com/match/{alliance_key.split(' ')[1]})\"\n",
    "    )"
   ]
  },
  {
   "cell_type": "code",
   "execution_count": 8,
   "metadata": {},
   "outputs": [],
   "source": [
    "TEAMS: dict[str, Team] = {\n",
    "    team[\"key\"]: team\n",
    "    for team in session.get(\n",
    "        ROOT_URL + \"/district/2025ne/teams\"\n",
    "    ).json()\n",
    "}\n",
    "RANKINGS: dict[str] = {\n",
    "    team[\"team_key\"]: team\n",
    "    for team in session.get(\n",
    "        ROOT_URL + \"/district/2025ne/rankings\"\n",
    "    ).json()\n",
    "}\n",
    "\n",
    "MA_PRE_DCMP: dict[str, int] = {}\n",
    "MA_TOTAL: dict[str, int] = {}\n",
    "for key, team in TEAMS.items():\n",
    "    if team[\"state_prov\"] != \"Connecticut\":\n",
    "        continue\n",
    "    MA_TOTAL[key] = RANKINGS[key][\"point_total\"]\n",
    "    MA_PRE_DCMP[key] = RANKINGS[key][\"point_total\"] - sum(\n",
    "        event[\"total\"]\n",
    "        for event in RANKINGS[key][\"event_points\"]\n",
    "        if event[\"district_cmp\"]\n",
    "    )\n",
    "\n",
    "MA_RANK: dict[str, int] = {team_key: i for i, team_key in enumerate(sorted(MA_TOTAL, key=MA_TOTAL.get, reverse=True), 1)}"
   ]
  },
  {
   "cell_type": "code",
   "execution_count": 9,
   "metadata": {},
   "outputs": [
    {
     "name": "stdout",
     "output_type": "stream",
     "text": [
      "1  | 2  | 195   | CyberKnights                  | 153 | 276\n",
      "2  | 1  | 7407  | Wired Boars                   | 146 | 341\n",
      "3  | 3  | 176   | Aces High                     | 140 | 227\n",
      "4  | 5  | 5142  | RoboDominators                | 104 | 212\n",
      "5  | 6  | 230   | Gaelhawks                     | 102 | 177\n",
      "6  | 13 | 2064  | The Panther Project           | 95  | 122\n",
      "7  | 10 | 571   | Paragon Robotics              | 92  | 137\n",
      "8  | 4  | 7153  | Aetos Dios (Eagles of Zeus)   | 87  | 213\n",
      "9  | 12 | 175   | Buzz Robotics                 | 86  | 131\n",
      "10 | 7  | 3182  | Athena's Warriors             | 79  | 175\n",
      "11 | 14 | 155   | The TechnoNuts                | 73  | 115\n",
      "12 | 8  | 1699  | Robocats                      | 71  | 170\n",
      "13 | 9  | 8085  | MOJO                          | 68  | 152\n",
      "14 | 15 | 228   | GUS                           | 66  | 111\n",
      "15 | 22 | 1991  | The Dragons                   | 60  | 81\n",
      "16 | 18 | 3146  | GRANBY GRUNTS                 | 60  | 102\n",
      "17 | 11 | 177   | Bobcat Robotics               | 59  | 134\n",
      "18 | 19 | 236   | Techno-Ticks                  | 58  | 91\n",
      "19 | 21 | 4572  | Barlow Robotics               | 58  | 82\n",
      "20 | 16 | 999   | MechaRAMS                     | 57  | 108\n",
      "21 | 20 | 237   | Black Magic Robotics          | 54  | 84\n",
      "22 | 27 | 3464  | Sim-City                      | 54  | 75\n",
      "23 | 25 | 8889  | Project W                     | 53  | 77\n",
      "24 | 26 | 181   | Birds Of Prey                 | 51  | 75\n",
      "25 | 28 | 429   | Two Many Bobcats              | 50  | 50\n",
      "26 | 24 | 7869  | The Fun Gang                  | 49  | 79\n",
      "27 | 23 | 173   | RAGE Robotics ⚙️              | 47  | 80\n",
      "28 | 29 | 3461  | Operation PEACCE Robotics     | 45  | 45\n",
      "29 | 30 | 1740  | Cyber Colonels                | 44  | 44\n",
      "30 | 31 | 2067  | Apple Pi                      | 43  | 43\n",
      "31 | 32 | 558   | Elm City Robo Squad           | 43  | 43\n",
      "32 | 33 | 6346  | Cybears Robotics Team         | 43  | 43\n",
      "33 | 34 | 10592 | Stamford Cyber-Hird TSA       | 42  | 42\n",
      "34 | 35 | 2168  | Aluminum Falcons              | 40  | 40\n",
      "35 | 36 | 10245 | WAMS                          | 39  | 39\n",
      "36 | 37 | 178   | The 2nd Law Enforcers         | 37  | 37\n",
      "37 | 38 | 3634  | Spark City                    | 37  | 37\n",
      "38 | 17 | 1071  | Team MAX                      | 36  | 102\n",
      "39 | 39 | 2170  | Galvanized Guardians          | 32  | 32\n",
      "40 | 40 | 3654  | TechTigers                    | 32  | 32\n",
      "41 | 41 | 4628  | Sintian Robotics              | 31  | 31\n",
      "42 | 42 | 6333  | Scavenger Robotics            | 31  | 31\n",
      "43 | 43 | 10266 | Hopkins Galvanized Goats      | 30  | 30\n",
      "44 | 44 | 10133 | Manhattan Monsters            | 29  | 29\n",
      "45 | 45 | 1099  | DiscoTechs                    | 23  | 23\n",
      "46 | 46 | 716   | Who'sCTEKS                    | 22  | 22\n",
      "47 | 47 | 5746  | Human Error                   | 18  | 18\n",
      "48 | 48 | 5856  | Bullbots                      | 18  | 18\n",
      "49 | 49 | 7694  | THE IRON LIONS                | 18  | 18\n",
      "50 | 50 | 2712  | Power Surge 4-H Robotics      | 16  | 16\n",
      "51 | 51 | 3719  | STEM Whalers                  | 14  | 14\n",
      "52 | 52 | 9193  | Short-Circuited Eagles        | 13  | 13\n",
      "53 | 53 | 7760  | Griffin Innovations           | 4   | 4\n"
     ]
    }
   ],
   "source": [
    "for i, team_key in enumerate(sorted(MA_PRE_DCMP, key=MA_PRE_DCMP.get, reverse=True), 1):\n",
    "    team = TEAMS[team_key]\n",
    "    print(\n",
    "        f\"{i:<3}| {MA_RANK[team_key]:<3}| {team['team_number']:<6}| {team['nickname']:<30}| {MA_PRE_DCMP[team_key]:<4}| {MA_TOTAL[team_key]}\"\n",
    "    )"
   ]
  }
 ],
 "metadata": {
  "kernelspec": {
   "display_name": "Python 3",
   "language": "python",
   "name": "python3"
  },
  "language_info": {
   "codemirror_mode": {
    "name": "ipython",
    "version": 3
   },
   "file_extension": ".py",
   "mimetype": "text/x-python",
   "name": "python",
   "nbconvert_exporter": "python",
   "pygments_lexer": "ipython3",
   "version": "3.13.3"
  }
 },
 "nbformat": 4,
 "nbformat_minor": 2
}
