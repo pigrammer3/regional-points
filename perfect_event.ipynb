{
 "cells": [
  {
   "cell_type": "code",
   "execution_count": null,
   "metadata": {},
   "outputs": [],
   "source": [
    "from tqdm.notebook import trange, tqdm\n",
    "from tba_types import Award, Event, WLTRecord\n",
    "from tba_session import session, ROOT_URL\n",
    "from collections import defaultdict"
   ]
  },
  {
   "cell_type": "code",
   "execution_count": 2,
   "metadata": {},
   "outputs": [],
   "source": [
    "TEAM_PAGES = 22"
   ]
  },
  {
   "cell_type": "code",
   "execution_count": 3,
   "metadata": {},
   "outputs": [
    {
     "data": {
      "application/vnd.jupyter.widget-view+json": {
       "model_id": "8f9cd84354cb413f852efdf475b751c8",
       "version_major": 2,
       "version_minor": 0
      },
      "text/plain": [
       "Getting all teams:   0%|          | 0/22 [00:00<?, ?page/s]"
      ]
     },
     "metadata": {},
     "output_type": "display_data"
    }
   ],
   "source": [
    "ALL_TEAM_KEYS: list[str] = []\n",
    "\n",
    "for i in trange(TEAM_PAGES, desc=\"Getting all teams\", unit=\"page\"):\n",
    "    ALL_TEAM_KEYS.extend(\n",
    "        session.get(f\"{ROOT_URL}/teams/{i}/keys\").json()\n",
    "    )"
   ]
  },
  {
   "cell_type": "code",
   "execution_count": null,
   "metadata": {},
   "outputs": [
    {
     "data": {
      "application/vnd.jupyter.widget-view+json": {
       "model_id": "f215efa0ea5542708ae82457f1d0eb6c",
       "version_major": 2,
       "version_minor": 0
      },
      "text/plain": [
       "Getting team events:   0%|          | 0/8831 [00:00<?, ?team/s]"
      ]
     },
     "metadata": {},
     "output_type": "display_data"
    },
    {
     "data": {
      "application/vnd.jupyter.widget-view+json": {
       "model_id": "dae724ddadad4854952feb5da8105963",
       "version_major": 2,
       "version_minor": 0
      },
      "text/plain": [
       "  0%|          | 0/2332 [00:00<?, ?it/s]"
      ]
     },
     "metadata": {},
     "output_type": "display_data"
    },
    {
     "name": "stdout",
     "output_type": "stream",
     "text": [
      "{}\n",
      "{'alliance': {'backup': None, 'name': 'Alliance 1', 'number': 1, 'pick': 0}, 'alliance_status_str': '<b>Captain</b> of <b>Alliance 1</b>', 'last_match_key': '2010wat_f1m2', 'next_match_key': None, 'overall_status_str': 'Team 1114 competed in the playoffs as the <b>Captain</b> of <b>Alliance 1</b> and <b>won the event</b> with a playoff record of <b>6-0-0</b>.', 'playoff': {'current_level_record': {'losses': 0, 'ties': 0, 'wins': 2}, 'level': 'f', 'playoff_average': None, 'playoff_type': None, 'record': {'losses': 0, 'ties': 0, 'wins': 6}, 'status': 'won'}, 'playoff_status_str': '<b>Won the event</b> with a playoff record of <b>6-0-0</b>', 'qual': {'num_teams': 30, 'ranking': {'dq': 0, 'matches_played': 9, 'qual_average': None, 'rank': 1, 'record': None, 'sort_orders': [253.0, 96.0, 12.0], 'team_key': 'frc1114'}, 'sort_order_info': [{'name': 'Seeding Score', 'precision': 0}, {'name': 'Coopertition Bonus', 'precision': 0}, {'name': 'Hanging Points', 'precision': 0}], 'status': 'completed'}}\n"
     ]
    }
   ],
   "source": [
    "TEAM_EVENT_AWARDS: dict[str, dict[str, list[Award]]] = {}\n",
    "WLT_MAP: dict[tuple[str, str], WLTRecord] = defaultdict(\n",
    "    lambda: WLTRecord(wins=0, losses=0, ties=0)\n",
    ")\n",
    "\n",
    "EVENT_KEY_MAP: dict[str, str] = {}\n",
    "\n",
    "EVENT_MAP: dict[str, Event] = {}\n",
    "\n",
    "\n",
    "for team_key in tqdm(\n",
    "\n",
    "    ALL_TEAM_KEYS, desc=\"Getting team events\", unit=\"team\", leave=False\n",
    "\n",
    "):\n",
    "\n",
    "    TEAM_EVENT_AWARDS[team_key] = {}\n",
    "    team_events: list[Event] = session.get(f\"{ROOT_URL}/team/{team_key}/events\").json()\n",
    "    for event in sorted(team_events, key=lambda event: event[\"start_date\"]):\n",
    "        EVENT_MAP[event[\"key\"]] = event\n",
    "        if (\n",
    "            not 0 <= event[\"event_type\"] <= 5\n",
    "            or event[\"year\"] == 2021\n",
    "            or \"cancelled\" in event[\"name\"].lower()\n",
    "        ):\n",
    "            continue\n",
    "        EVENT_KEY_MAP[event[\"key\"]] = (\n",
    "            event[\"key\"]\n",
    "            if event[\"parent_event_key\"] is None\n",
    "            else event[\"parent_event_key\"]\n",
    "        )\n",
    "\n",
    "        TEAM_EVENT_AWARDS[team_key][EVENT_KEY_MAP[event[\"key\"]]] = []\n",
    "\n",
    "    team_awards: list[Award] = session.get(f\"{ROOT_URL}/team/{team_key}/awards\").json()\n",
    "    for award in team_awards:\n",
    "        if (\n",
    "            award[\"event_key\"] not in EVENT_KEY_MAP\n",
    "            or award[\"award_type\"] == 14\n",
    "            or award[\"award_type\"] == 39\n",
    "            or award[\"award_type\"] == 68\n",
    "            # or not 3 <= award[\"award_type\"] <= 5\n",
    "        ):\n",
    "            continue\n",
    "        if EVENT_KEY_MAP[award[\"event_key\"]] not in TEAM_EVENT_AWARDS[team_key]:\n",
    "            TEAM_EVENT_AWARDS[team_key][EVENT_KEY_MAP[award[\"event_key\"]]] = []\n",
    "        TEAM_EVENT_AWARDS[team_key][EVENT_KEY_MAP[award[\"event_key\"]]].append(award)\n",
    "\n",
    "for event_key, map_to in tqdm(EVENT_KEY_MAP.items()):\n",
    "    statuses: dict[str, dict] = session.get(f\"{ROOT_URL}/event/{event_key}/teams/statuses\").json()\n",
    "    rankings: list[dict] = session.get(f\"{ROOT_URL}/event/{event_key}/rankings\").json()\n",
    "    if rankings is None:\n",
    "        continue\n",
    "    qual_records: dict[str, WLTRecord] = dict(\n",
    "        (team[\"team_key\"], team[\"record\"]) for team in rankings if \"record\" in team\n",
    "    )\n",
    "    for team_key, status in statuses.items():\n",
    "        if status is None or \"playoff\" not in status or status[\"playoff\"] is None or \"record\" not in status[\"playoff\"]:\n",
    "            continue\n",
    "        quals_record = qual_records.get(team_key, None)\n",
    "        playoffs_record: WLTRecord = status[\"playoff\"][\"record\"]\n",
    "        if not quals_record or not playoffs_record:\n",
    "            continue\n",
    "        record: WLTRecord = WLTRecord(\n",
    "            wins=quals_record[\"wins\"] + playoffs_record[\"wins\"],\n",
    "            losses=quals_record[\"losses\"] + playoffs_record[\"losses\"],\n",
    "            ties=quals_record[\"ties\"] + playoffs_record[\"ties\"],\n",
    "        )\n",
    "        WLT_MAP[(team_key, map_to)][\"wins\"] += record[\"wins\"]\n",
    "        WLT_MAP[(team_key, map_to)][\"losses\"] += record[\"losses\"]\n",
    "        WLT_MAP[(team_key, map_to)][\"ties\"] += record[\"ties\"]"
   ]
  },
  {
   "cell_type": "code",
   "execution_count": 40,
   "metadata": {},
   "outputs": [
    {
     "data": {
      "application/vnd.jupyter.widget-view+json": {
       "model_id": "085408ae839e440c9b0285d905b5759c",
       "version_major": 2,
       "version_minor": 0
      },
      "text/plain": [
       "Finding perfect events:   0%|          | 0/8831 [00:00<?, ?team/s]"
      ]
     },
     "metadata": {},
     "output_type": "display_data"
    }
   ],
   "source": [
    "PERFECT_EVENTS: list[tuple[str, str, WLTRecord, list[Award]]] = []\n",
    "\n",
    "for team_key, events in tqdm(\n",
    "    TEAM_EVENT_AWARDS.items(),\n",
    "    desc=\"Finding perfect events\",\n",
    "    unit=\"team\",\n",
    "):\n",
    "    for event_key, awards in events.items():\n",
    "        if len(awards) == 0:\n",
    "            continue\n",
    "        record = WLT_MAP[(team_key, event_key)]\n",
    "        if record[\"wins\"] != 0 and record[\"losses\"] == 0 and record[\"ties\"] == 0:\n",
    "            if (\n",
    "                len(awards) >= 3\n",
    "                and any(award[\"award_type\"] == 0 for award in awards)\n",
    "                and any(award[\"award_type\"] == 1 for award in awards)\n",
    "            ):\n",
    "                PERFECT_EVENTS.append(\n",
    "                    (\n",
    "                        team_key,\n",
    "                        event_key,\n",
    "                        record,\n",
    "                        awards,\n",
    "                    )\n",
    "                )"
   ]
  },
  {
   "cell_type": "code",
   "execution_count": 41,
   "metadata": {},
   "outputs": [
    {
     "data": {
      "text/plain": [
       "{'wins': 0, 'losses': 0, 'ties': 0}"
      ]
     },
     "execution_count": 41,
     "metadata": {},
     "output_type": "execute_result"
    }
   ],
   "source": [
    "WLT_MAP[(\"frc1114\", \"2010wat\")]"
   ]
  },
  {
   "cell_type": "code",
   "execution_count": 42,
   "metadata": {},
   "outputs": [],
   "source": [
    "for team_key, event_key, record, awards in sorted(\n",
    "    PERFECT_EVENTS,\n",
    "    key=lambda x: int(x[0][3:]),\n",
    "    reverse=True,\n",
    "):\n",
    "    print(\n",
    "        f\"### [{team_key[3:]}](https://thebluealliance.com/team/{team_key[3:]}) at [{EVENT_MAP[event_key]['year']} {EVENT_MAP[event_key]['name']}](https://thebluealliance.com/event/{event_key}): {record['wins']}-{record['losses']}-{record['ties']} with {len(awards)} awards:\"\n",
    "    )\n",
    "    for award in awards:\n",
    "        print(f\" - {award['name']}\")"
   ]
  }
 ],
 "metadata": {
  "kernelspec": {
   "display_name": "Python 3",
   "language": "python",
   "name": "python3"
  },
  "language_info": {
   "codemirror_mode": {
    "name": "ipython",
    "version": 3
   },
   "file_extension": ".py",
   "mimetype": "text/x-python",
   "name": "python",
   "nbconvert_exporter": "python",
   "pygments_lexer": "ipython3",
   "version": "3.13.3"
  }
 },
 "nbformat": 4,
 "nbformat_minor": 2
}
