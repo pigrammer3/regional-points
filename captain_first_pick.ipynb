{
 "cells": [
  {
   "cell_type": "code",
   "execution_count": 20,
   "metadata": {},
   "outputs": [],
   "source": [
    "from tqdm.notebook import trange, tqdm\n",
    "from tba_types import Award, Event, EliminationAlliance\n",
    "from collections import defaultdict\n",
    "from tba_session import session, ROOT_URL\n",
    "import json"
   ]
  },
  {
   "cell_type": "code",
   "execution_count": 23,
   "metadata": {},
   "outputs": [
    {
     "name": "stdout",
     "output_type": "stream",
     "text": [
      "{'2011co': [['frc1986', 'frc624', 'frc2972'], ['frc662', 'frc2996', 'frc1977'], ['frc1619', 'frc2036', 'frc3648'], ['frc1515', 'frc1158', 'frc3729'], ['frc1332', 'frc1157', 'frc2945'], ['frc159', 'frc3403', 'frc2083'], ['frc1348', 'frc2352', 'frc1339'], ['frc443', 'frc1410', 'frc1245']], '2011da': [['frc148', 'frc2848', 'frc3037'], ['frc1296', 'frc704', 'frc3795'], ['frc647', 'frc3802', 'frc3005'], ['frc3507', 'frc1817', 'frc3384'], ['frc3310', 'frc418', 'frc3043'], ['frc3666', 'frc2949', 'frc3350'], ['frc3369', 'frc2995', 'frc1745'], ['frc3370', 'frc2283', 'frc2864']]}\n"
     ]
    }
   ],
   "source": [
    "EXTRA_ALLIANCES: dict[str, list[list[str]]] = {}\n",
    "\n",
    "with open(\"extra_alliances.json\", \"r\") as f:\n",
    "    to_process = json.load(f)\n",
    "    EXTRA_ALLIANCES = {\n",
    "        key: [\n",
    "            [\"frc\" + team.strip() for team in line.split(\"-\")]\n",
    "            for line in string.splitlines()\n",
    "        ]\n",
    "        for key, string in to_process.items()\n",
    "    }\n",
    "\n",
    "print(EXTRA_ALLIANCES)"
   ]
  },
  {
   "cell_type": "code",
   "execution_count": 58,
   "metadata": {},
   "outputs": [
    {
     "data": {
      "application/vnd.jupyter.widget-view+json": {
       "model_id": "39ea523b0d1042a095e9a4ce773bedd7",
       "version_major": 2,
       "version_minor": 0
      },
      "text/plain": [
       "  0%|          | 0/16 [00:00<?, ?it/s]"
      ]
     },
     "metadata": {},
     "output_type": "display_data"
    },
    {
     "data": {
      "application/vnd.jupyter.widget-view+json": {
       "model_id": "76cee455904848a4bfe2f3a7f4434af7",
       "version_major": 2,
       "version_minor": 0
      },
      "text/plain": [
       "Processing 2010 events:   0%|          | 0/58 [00:00<?, ?it/s]"
      ]
     },
     "metadata": {},
     "output_type": "display_data"
    },
    {
     "name": "stdout",
     "output_type": "stream",
     "text": [
      "No alliances for 2010az (Arizona Regional), skipping\n",
      "No alliances for 2010is (Israel Regional), skipping\n",
      "No alliances for 2010in (Boilermaker Regional), skipping\n",
      "No alliances for 2010ut (Utah Regional sponsored by NASA & Platt), skipping\n",
      "No alliances for 2010co (Colorado Regional), skipping\n",
      "No alliances for 2010on (Greater Toronto Regional), skipping\n"
     ]
    },
    {
     "data": {
      "application/vnd.jupyter.widget-view+json": {
       "model_id": "9f7e3789c2b34686b162d0d58b2c0663",
       "version_major": 2,
       "version_minor": 0
      },
      "text/plain": [
       "Processing 2011 events:   0%|          | 0/68 [00:00<?, ?it/s]"
      ]
     },
     "metadata": {},
     "output_type": "display_data"
    },
    {
     "name": "stdout",
     "output_type": "stream",
     "text": [
      "No alliances for 2011az (Arizona Regional), skipping\n",
      "No alliances for 2011ok (Oklahoma Regional), skipping\n",
      "No alliances for 2011sac (Sacramento Regional), skipping\n",
      "No alliances for 2011tx (Lone Star Regional), skipping\n",
      "No alliances for 2011ut (Utah Regional co-sponsored by NASA and Platt), skipping\n"
     ]
    },
    {
     "data": {
      "application/vnd.jupyter.widget-view+json": {
       "model_id": "0e2439f570d04a328f993f473db17d06",
       "version_major": 2,
       "version_minor": 0
      },
      "text/plain": [
       "Processing 2012 events:   0%|          | 0/82 [00:00<?, ?it/s]"
      ]
     },
     "metadata": {},
     "output_type": "display_data"
    },
    {
     "name": "stdout",
     "output_type": "stream",
     "text": [
      "No alliances for 2012la (Bayou Regional), skipping\n",
      "No alliances for 2012qc (Festival de Robotique FRC a Montreal Regional), skipping\n",
      "No alliances for 2012da (Dallas East Regional sponsored by jcpenney), skipping\n",
      "No alliances for 2012da2 (Dallas West Regional sponsored by jcpenney), skipping\n",
      "No alliances for 2012nv (Las Vegas Regional), skipping\n"
     ]
    },
    {
     "data": {
      "application/vnd.jupyter.widget-view+json": {
       "model_id": "da0e87e60a784fe48850765dc75f69d9",
       "version_major": 2,
       "version_minor": 0
      },
      "text/plain": [
       "Processing 2013 events:   0%|          | 0/129 [00:00<?, ?it/s]"
      ]
     },
     "metadata": {},
     "output_type": "display_data"
    },
    {
     "name": "stdout",
     "output_type": "stream",
     "text": [
      "No alliances for 2013wase (Seattle Regional), skipping\n",
      "No alliances for 2013mele (Pine Tree Regional), skipping\n",
      "No alliances for 2013nvlv (Las Vegas Regional), skipping\n"
     ]
    },
    {
     "data": {
      "application/vnd.jupyter.widget-view+json": {
       "model_id": "bcad57567cda41fd80f9333eea083cee",
       "version_major": 2,
       "version_minor": 0
      },
      "text/plain": [
       "Processing 2014 events:   0%|          | 0/166 [00:00<?, ?it/s]"
      ]
     },
     "metadata": {},
     "output_type": "display_data"
    },
    {
     "data": {
      "application/vnd.jupyter.widget-view+json": {
       "model_id": "6224b02d337544c18ad8186b0b74526c",
       "version_major": 2,
       "version_minor": 0
      },
      "text/plain": [
       "Processing 2015 events:   0%|          | 0/181 [00:00<?, ?it/s]"
      ]
     },
     "metadata": {},
     "output_type": "display_data"
    },
    {
     "data": {
      "application/vnd.jupyter.widget-view+json": {
       "model_id": "78c71ddb48e345298801816d7ee1d65d",
       "version_major": 2,
       "version_minor": 0
      },
      "text/plain": [
       "Processing 2016 events:   0%|          | 0/203 [00:00<?, ?it/s]"
      ]
     },
     "metadata": {},
     "output_type": "display_data"
    },
    {
     "data": {
      "application/vnd.jupyter.widget-view+json": {
       "model_id": "fcefe116a5bc4cac9e754c058595ba37",
       "version_major": 2,
       "version_minor": 0
      },
      "text/plain": [
       "Processing 2017 events:   0%|          | 0/256 [00:00<?, ?it/s]"
      ]
     },
     "metadata": {},
     "output_type": "display_data"
    },
    {
     "data": {
      "application/vnd.jupyter.widget-view+json": {
       "model_id": "362f3d7687d54347b1567c2851591755",
       "version_major": 2,
       "version_minor": 0
      },
      "text/plain": [
       "Processing 2018 events:   0%|          | 0/278 [00:00<?, ?it/s]"
      ]
     },
     "metadata": {},
     "output_type": "display_data"
    },
    {
     "data": {
      "application/vnd.jupyter.widget-view+json": {
       "model_id": "78ea0b703c1f4fb79f26c92bcc93eff3",
       "version_major": 2,
       "version_minor": 0
      },
      "text/plain": [
       "Processing 2019 events:   0%|          | 0/303 [00:00<?, ?it/s]"
      ]
     },
     "metadata": {},
     "output_type": "display_data"
    },
    {
     "data": {
      "application/vnd.jupyter.widget-view+json": {
       "model_id": "e2deedfa82154dddba3fdf925bcf6618",
       "version_major": 2,
       "version_minor": 0
      },
      "text/plain": [
       "Processing 2020 events:   0%|          | 0/196 [00:00<?, ?it/s]"
      ]
     },
     "metadata": {},
     "output_type": "display_data"
    },
    {
     "data": {
      "application/vnd.jupyter.widget-view+json": {
       "model_id": "56316739d04145788f73b27a0fdb9db9",
       "version_major": 2,
       "version_minor": 0
      },
      "text/plain": [
       "Processing 2022 events:   0%|          | 0/288 [00:00<?, ?it/s]"
      ]
     },
     "metadata": {},
     "output_type": "display_data"
    },
    {
     "name": "stdout",
     "output_type": "stream",
     "text": [
      "No alliances for 2022zhha (Nanjing Regional), skipping\n"
     ]
    },
    {
     "data": {
      "application/vnd.jupyter.widget-view+json": {
       "model_id": "13b20dab6cd24a4bafe21ec9711f7b4e",
       "version_major": 2,
       "version_minor": 0
      },
      "text/plain": [
       "Processing 2023 events:   0%|          | 0/309 [00:00<?, ?it/s]"
      ]
     },
     "metadata": {},
     "output_type": "display_data"
    },
    {
     "name": "stdout",
     "output_type": "stream",
     "text": [
      "No alliances for 2023tuis3 (Izmir Regional), skipping\n"
     ]
    },
    {
     "data": {
      "application/vnd.jupyter.widget-view+json": {
       "model_id": "a8acbc24b9cf4259baf18c0d94331f92",
       "version_major": 2,
       "version_minor": 0
      },
      "text/plain": [
       "Processing 2024 events:   0%|          | 0/323 [00:00<?, ?it/s]"
      ]
     },
     "metadata": {},
     "output_type": "display_data"
    },
    {
     "data": {
      "application/vnd.jupyter.widget-view+json": {
       "model_id": "88f88598b3b343ef89cfe67e57ee07ea",
       "version_major": 2,
       "version_minor": 0
      },
      "text/plain": [
       "Processing 2025 events:   0%|          | 0/222 [00:00<?, ?it/s]"
      ]
     },
     "metadata": {},
     "output_type": "display_data"
    }
   ],
   "source": [
    "TEAM_EVENT_PICK: dict[str, dict[str, int]] = defaultdict(dict)\n",
    "EVENT_KEY_MAP: dict[str, str] = {}\n",
    "EVENT_MAP: dict[str, Event] = {}\n",
    "\n",
    "for year in trange(2010, 2026):\n",
    "    if year == 2021:\n",
    "        continue\n",
    "    events: list[Event] = session.get(f\"{ROOT_URL}/events/{year}\").json()\n",
    "    for event in tqdm(sorted(events, key=lambda e: e[\"start_date\"]), desc=f\"Processing {year} events\", leave=False):\n",
    "        EVENT_KEY_MAP[event[\"key\"]] = event[\"parent_event_key\"] or event[\"key\"]\n",
    "        EVENT_MAP[event[\"key\"]] = event\n",
    "        if (\n",
    "            event[\"event_type\"] >= 6\n",
    "            or \"cancelled\" in event[\"name\"].lower()\n",
    "            or event[\"event_code\"].startswith(\"award\")\n",
    "            or event[\"event_code\"].startswith(\"cmp\")\n",
    "        ):\n",
    "            continue\n",
    "        teams: list[str] = session.get(\n",
    "            f\"{ROOT_URL}/event/{event['key']}/teams/keys\"\n",
    "        ).json()\n",
    "        for team in teams:\n",
    "            if team.endswith(\"*\"):\n",
    "                team = team[:-1]\n",
    "            if EVENT_KEY_MAP[event[\"key\"]] not in TEAM_EVENT_PICK[team]:\n",
    "                TEAM_EVENT_PICK[team][EVENT_KEY_MAP[event[\"key\"]]] = -1\n",
    "        alliances: list[EliminationAlliance] = session.get(\n",
    "            f\"{ROOT_URL}/event/{event['key']}/alliances\"\n",
    "        ).json()\n",
    "        if not alliances:\n",
    "            if event[\"key\"] in EXTRA_ALLIANCES:\n",
    "                for alliance in EXTRA_ALLIANCES[event[\"key\"]]:\n",
    "                    for i, team in enumerate(alliance):\n",
    "                        TEAM_EVENT_PICK[team][EVENT_KEY_MAP[event[\"key\"]]] = i\n",
    "                continue\n",
    "            print(f\"No alliances for {event['key']} ({event[\"name\"]}), skipping\")\n",
    "            continue\n",
    "        for alliance in alliances:\n",
    "            if alliance[\"picks\"]:\n",
    "                for i, team in enumerate(alliance[\"picks\"]):\n",
    "                    if team.endswith(\"*\"):\n",
    "                        team = team[:-1]\n",
    "                    TEAM_EVENT_PICK[team][EVENT_KEY_MAP[event[\"key\"]]] = i"
   ]
  },
  {
   "cell_type": "code",
   "execution_count": 57,
   "metadata": {},
   "outputs": [
    {
     "data": {
      "text/plain": [
       "-1"
      ]
     },
     "execution_count": 57,
     "metadata": {},
     "output_type": "execute_result"
    }
   ],
   "source": [
    "TEAM_EVENT_PICK[\"frc125\"][\"2025necmp\"]"
   ]
  },
  {
   "cell_type": "code",
   "execution_count": 59,
   "metadata": {},
   "outputs": [],
   "source": [
    "def longest_streak(pick_range: range) -> dict[str, tuple[int, dict[str, int]]]:\n",
    "    longest_streak: dict[str, tuple[int, dict[str, int]]] = {}\n",
    "    for team_key, events in TEAM_EVENT_PICK.items():\n",
    "        longest_streak[team_key] = (0, {})\n",
    "        items = list(events.items())\n",
    "        start = -1\n",
    "        for end in range(len(items)):\n",
    "            if items[end][1] not in pick_range:\n",
    "                start = -1\n",
    "                continue\n",
    "            elif start == -1:\n",
    "                start = end\n",
    "            else:\n",
    "                while items[start][1] not in pick_range:\n",
    "                    start += 1\n",
    "                    if start >= end:\n",
    "                        break\n",
    "            if end - start + 1 > longest_streak[team_key][0]:\n",
    "                longest_streak[team_key] = (\n",
    "                    end - start + 1,\n",
    "                    dict(items[start : end + 1]),\n",
    "                )\n",
    "    return longest_streak"
   ]
  },
  {
   "cell_type": "code",
   "execution_count": 63,
   "metadata": {},
   "outputs": [
    {
     "name": "stdout",
     "output_type": "stream",
     "text": [
      "| Team | Length | Active | First Event | Last Event |\n",
      "| ---- | ------ | ------ | ----------- | ----------- |\n",
      "| [67](https://www.thebluealliance.com/team/67) | 61 | Yes |[2010 Kettering University FIRST Robotics District Competition](https://www.thebluealliance.com/event/2010gg) |[2025 Einstein Field](https://www.thebluealliance.com/event/2025cmptx) |\n",
      "| [118](https://www.thebluealliance.com/team/118) | 61 | Yes |[2011 Midwest Regional](https://www.thebluealliance.com/event/2011il) |[2025 Einstein Field](https://www.thebluealliance.com/event/2025cmptx) |\n",
      "| [33](https://www.thebluealliance.com/team/33) | 53 | No |[2010 Kettering University FIRST Robotics District Competition](https://www.thebluealliance.com/event/2010gg) |[2023 FIRST in Michigan State Championship presented by DTE Foundation](https://www.thebluealliance.com/event/2023micmp) |\n",
      "| [2056](https://www.thebluealliance.com/team/2056) | 52 | Yes |[2010 Einstein Field](https://www.thebluealliance.com/event/2010cmp) |[2025 Einstein Field](https://www.thebluealliance.com/event/2025cmptx) |\n",
      "| [1678](https://www.thebluealliance.com/team/1678) | 48 | Yes |[2011 Einstein Field](https://www.thebluealliance.com/event/2011cmp) |[2025 Einstein Field](https://www.thebluealliance.com/event/2025cmptx) |\n",
      "| [148](https://www.thebluealliance.com/team/148) | 44 | Yes |[2012 Einstein Field](https://www.thebluealliance.com/event/2012cmp) |[2025 Einstein Field](https://www.thebluealliance.com/event/2025cmptx) |\n",
      "| [2767](https://www.thebluealliance.com/team/2767) | 42 | Yes |[2013 Gull Lake FIRST Robotics District Competition](https://www.thebluealliance.com/event/2013migul) |[2025 Einstein Field](https://www.thebluealliance.com/event/2025cmptx) |\n",
      "| [624](https://www.thebluealliance.com/team/624) | 41 | No |[2012 Lone Star Regional](https://www.thebluealliance.com/event/2012tx) |[2024 FIRST In Texas District Championship](https://www.thebluealliance.com/event/2024txcmp) |\n",
      "| [254](https://www.thebluealliance.com/team/254) | 37 | Yes |[2012 Silicon Valley Regional](https://www.thebluealliance.com/event/2012sj) |[2025 Einstein Field](https://www.thebluealliance.com/event/2025cmptx) |\n",
      "| [1114](https://www.thebluealliance.com/team/1114) | 37 | No |[2010 Einstein Field](https://www.thebluealliance.com/event/2010cmp) |[2020 ONT District Humber College Event](https://www.thebluealliance.com/event/2020onto3) |\n",
      "| [125](https://www.thebluealliance.com/team/125) | 34 | Yes |[2017 NE District - Greater Boston Event](https://www.thebluealliance.com/event/2017mabos) |[2025 Einstein Field](https://www.thebluealliance.com/event/2025cmptx) |\n",
      "| [2046](https://www.thebluealliance.com/team/2046) | 34 | No |[2017 PNW District - Auburn Mountainview Event](https://www.thebluealliance.com/event/2017waamv) |[2025 Pacific Northwest FIRST District Championship](https://www.thebluealliance.com/event/2025pncmp) |\n",
      "| [3339](https://www.thebluealliance.com/team/3339) | 34 | Yes |[2014 Israel Regional](https://www.thebluealliance.com/event/2014ista) |[2025 Einstein Field](https://www.thebluealliance.com/event/2025cmptx) |\n",
      "| [987](https://www.thebluealliance.com/team/987) | 33 | Yes |[2013 Einstein Field](https://www.thebluealliance.com/event/2013cmp) |[2025 Einstein Field](https://www.thebluealliance.com/event/2025cmptx) |\n",
      "| [2122](https://www.thebluealliance.com/team/2122) | 33 | No |[2013 Spokane Regional](https://www.thebluealliance.com/event/2013wach) |[2024 Oklahoma Regional](https://www.thebluealliance.com/event/2024okok) |\n",
      "| [469](https://www.thebluealliance.com/team/469) | 32 | No |[2010 Cass Tech FIRST Robotics District Competition](https://www.thebluealliance.com/event/2010dt1) |[2017 FIM District - Troy Event](https://www.thebluealliance.com/event/2017mitry) |\n",
      "| [971](https://www.thebluealliance.com/team/971) | 31 | No |[2010 Silicon Valley Regional sponsored by Google and BAE Systems](https://www.thebluealliance.com/event/2010sj) |[2023 Monterey Bay Regional](https://www.thebluealliance.com/event/2023camb) |\n",
      "| [1619](https://www.thebluealliance.com/team/1619) | 31 | Yes |[2013 Colorado Regional](https://www.thebluealliance.com/event/2013code) |[2025 Einstein Field](https://www.thebluealliance.com/event/2025cmptx) |\n",
      "| [3310](https://www.thebluealliance.com/team/3310) | 30 | No |[2016 Arkansas Rock City Regional](https://www.thebluealliance.com/event/2016arlr) |[2025 FIRST In Texas District Championship](https://www.thebluealliance.com/event/2025txcmp) |\n"
     ]
    }
   ],
   "source": [
    "print(\"| Team | Length | Active | First Event | Last Event |\")\n",
    "print(\"| ---- | ------ | ------ | ----------- | ----------- |\")\n",
    "\n",
    "min_length = 30\n",
    "for team_key, vals in sorted(\n",
    "    longest_streak(range(0, 2)).items(),\n",
    "    key=lambda x: (x[1][0], 20000 - int(x[0][3:])),\n",
    "    reverse=True,\n",
    "):\n",
    "    length, picks = vals\n",
    "    event_list = list(picks.keys())\n",
    "    if length < min_length:\n",
    "        break\n",
    "    active = event_list[-1] == list(TEAM_EVENT_PICK[team_key].keys())[\n",
    "        -1\n",
    "    ] and event_list[-1].startswith(\"2025\")\n",
    "    print(f\"| [{team_key[3:]}](https://www.thebluealliance.com/team/{team_key[3:]}) | {length} | {\"Yes\" if active else \"No\"} |\"\n",
    "            f\"[{EVENT_MAP[event_list[0]][\"year\"]} {EVENT_MAP[event_list[0]][\"name\"]}](https://www.thebluealliance.com/event/{event_list[0]}) |\"\n",
    "            f\"[{EVENT_MAP[event_list[-1]][\"year\"]} {EVENT_MAP[event_list[-1]][\"name\"]}](https://www.thebluealliance.com/event/{event_list[-1]}) |\")"
   ]
  },
  {
   "cell_type": "code",
   "execution_count": null,
   "metadata": {},
   "outputs": [],
   "source": [
    "if \"get_ipython\" not in globals():\n",
    "    import json\n",
    "    import pathlib\n",
    "\n",
    "    output_folder = pathlib.Path(__file__).parent / \"build\"\n",
    "\n",
    "    config = {\n",
    "        \"columns\": [\n",
    "            {\n",
    "                \"name\": \"team\",\n",
    "                \"type\": \"team\",\n",
    "                \"displayName\": \"Team\",\n",
    "            },\n",
    "            {\n",
    "                \"name\": \"length\",\n",
    "                \"type\": \"integer\",\n",
    "                \"displayName\": \"Streak Length\",\n",
    "            },\n",
    "            {\n",
    "                \"name\": \"event_start\",\n",
    "                \"type\": \"event\",\n",
    "                \"displayName\": \"Start Event\",\n",
    "            },\n",
    "            {\n",
    "                \"name\": \"event_end\",\n",
    "                \"type\": \"event\",\n",
    "                \"displayName\": \"End Event\",\n",
    "            },\n",
    "            {\n",
    "                \"name\": \"active\",\n",
    "                \"type\": \"boolean\",\n",
    "                \"displayName\": \"Active\",\n",
    "            },\n",
    "        ],\n",
    "        \"defaultSort\": [{\"column\": \"length\", \"direction\": -1}],\n",
    "        \"primaryKey\": \"team\",\n",
    "    }\n",
    "\n",
    "    with (output_folder / \"alliance-captain-streaks.config.json\").open(\"w\") as f:\n",
    "        json.dump({**config, \"title\": \"Alliance Captain Streaks\"}, f, indent=None)\n",
    "    with (output_folder / \"alliance-captain-streaks.json\").open(\"w\") as f:\n",
    "        json.dump(\n",
    "            [\n",
    "                {\n",
    "                    \"team\": team_key,\n",
    "                    \"length\": vals[0],\n",
    "                    \"event_start\": list(vals[1].keys())[0],\n",
    "                    \"event_end\": list(vals[1].keys())[-1],\n",
    "                    \"active\": list(vals[1].keys())[-1]\n",
    "                    == list(TEAM_EVENT_PICK[team_key].keys())[-1]\n",
    "                    and list(vals[1].keys())[-1].startswith(\"2025\"),\n",
    "                }\n",
    "                for team_key, vals in longest_streak(range(1)).items()\n",
    "                if list(vals[1].keys())\n",
    "            ],\n",
    "            f,\n",
    "            indent=None,\n",
    "        )\n",
    "    with (output_folder / \"captain-first-pick.config.json\").open(\"w\") as f:\n",
    "        json.dump(\n",
    "            {\n",
    "                **config,\n",
    "                \"title\": \"Captain/1st Pick Streaks\",\n",
    "            },\n",
    "            f,\n",
    "            indent=None,\n",
    "        )\n",
    "    with (output_folder / \"captain-first-pick.json\").open(\"w\") as f:\n",
    "        json.dump(\n",
    "            [\n",
    "                {\n",
    "                    \"team\": team_key,\n",
    "                    \"length\": vals[0],\n",
    "                    \"event_start\": list(vals[1].keys())[0],\n",
    "                    \"event_end\": list(vals[1].keys())[-1],\n",
    "                    \"active\": list(vals[1].keys())[-1]\n",
    "                    == list(TEAM_EVENT_PICK[team_key].keys())[-1]\n",
    "                    and list(vals[1].keys())[-1].startswith(\"2025\"),\n",
    "                }\n",
    "                for team_key, vals in longest_streak(range(2)).items()\n",
    "                if list(vals[1].keys())\n",
    "            ],\n",
    "            f,\n",
    "            indent=None,\n",
    "        )"
   ]
  }
 ],
 "metadata": {
  "kernelspec": {
   "display_name": "Python 3",
   "language": "python",
   "name": "python3"
  },
  "language_info": {
   "codemirror_mode": {
    "name": "ipython",
    "version": 3
   },
   "file_extension": ".py",
   "mimetype": "text/x-python",
   "name": "python",
   "nbconvert_exporter": "python",
   "pygments_lexer": "ipython3",
   "version": "3.13.3"
  }
 },
 "nbformat": 4,
 "nbformat_minor": 2
}
