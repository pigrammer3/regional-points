{
 "cells": [
  {
   "cell_type": "code",
   "execution_count": 20,
   "metadata": {},
   "outputs": [],
   "source": [
    "from tqdm.notebook import trange, tqdm\n",
    "from tba_types import Award, Event, EliminationAlliance\n",
    "from collections import defaultdict\n",
    "from tba_session import session, ROOT_URL\n",
    "import json"
   ]
  },
  {
   "cell_type": "code",
   "execution_count": 23,
   "metadata": {},
   "outputs": [
    {
     "name": "stdout",
     "output_type": "stream",
     "text": [
      "{'2011co': [['frc1986', 'frc624', 'frc2972'], ['frc662', 'frc2996', 'frc1977'], ['frc1619', 'frc2036', 'frc3648'], ['frc1515', 'frc1158', 'frc3729'], ['frc1332', 'frc1157', 'frc2945'], ['frc159', 'frc3403', 'frc2083'], ['frc1348', 'frc2352', 'frc1339'], ['frc443', 'frc1410', 'frc1245']], '2011da': [['frc148', 'frc2848', 'frc3037'], ['frc1296', 'frc704', 'frc3795'], ['frc647', 'frc3802', 'frc3005'], ['frc3507', 'frc1817', 'frc3384'], ['frc3310', 'frc418', 'frc3043'], ['frc3666', 'frc2949', 'frc3350'], ['frc3369', 'frc2995', 'frc1745'], ['frc3370', 'frc2283', 'frc2864']]}\n"
     ]
    }
   ],
   "source": [
    "EXTRA_ALLIANCES: dict[str, list[list[str]]] = {}\n",
    "\n",
    "with open(\"extra_alliances.json\", \"r\") as f:\n",
    "    to_process = json.load(f)\n",
    "    EXTRA_ALLIANCES = {\n",
    "        key: [\n",
    "            [\"frc\" + team.strip() for team in line.split(\"-\")]\n",
    "            for line in string.splitlines()\n",
    "        ]\n",
    "        for key, string in to_process.items()\n",
    "    }\n",
    "\n",
    "print(EXTRA_ALLIANCES)"
   ]
  },
  {
   "cell_type": "code",
   "execution_count": 44,
   "metadata": {},
   "outputs": [
    {
     "data": {
      "application/vnd.jupyter.widget-view+json": {
       "model_id": "af9a0d4fec38430eb10a0aa1bb4fd88b",
       "version_major": 2,
       "version_minor": 0
      },
      "text/plain": [
       "  0%|          | 0/16 [00:00<?, ?it/s]"
      ]
     },
     "metadata": {},
     "output_type": "display_data"
    },
    {
     "data": {
      "application/vnd.jupyter.widget-view+json": {
       "model_id": "4a738923754342c5a6a40033cfa3ce90",
       "version_major": 2,
       "version_minor": 0
      },
      "text/plain": [
       "Processing 2010 events:   0%|          | 0/58 [00:00<?, ?it/s]"
      ]
     },
     "metadata": {},
     "output_type": "display_data"
    },
    {
     "name": "stdout",
     "output_type": "stream",
     "text": [
      "No alliances for 2010az (Arizona Regional), skipping\n",
      "No alliances for 2010is (Israel Regional), skipping\n",
      "No alliances for 2010in (Boilermaker Regional), skipping\n",
      "No alliances for 2010ut (Utah Regional sponsored by NASA & Platt), skipping\n",
      "No alliances for 2010co (Colorado Regional), skipping\n",
      "No alliances for 2010on (Greater Toronto Regional), skipping\n"
     ]
    },
    {
     "data": {
      "application/vnd.jupyter.widget-view+json": {
       "model_id": "5d6a5bcc973e423292d89ac79218e718",
       "version_major": 2,
       "version_minor": 0
      },
      "text/plain": [
       "Processing 2011 events:   0%|          | 0/68 [00:00<?, ?it/s]"
      ]
     },
     "metadata": {},
     "output_type": "display_data"
    },
    {
     "name": "stdout",
     "output_type": "stream",
     "text": [
      "No alliances for 2011az (Arizona Regional), skipping\n",
      "No alliances for 2011ok (Oklahoma Regional), skipping\n",
      "No alliances for 2011sac (Sacramento Regional), skipping\n",
      "No alliances for 2011tx (Lone Star Regional), skipping\n",
      "No alliances for 2011ut (Utah Regional co-sponsored by NASA and Platt), skipping\n"
     ]
    },
    {
     "data": {
      "application/vnd.jupyter.widget-view+json": {
       "model_id": "f1303a97ad5347768e217a8c56fe3b31",
       "version_major": 2,
       "version_minor": 0
      },
      "text/plain": [
       "Processing 2012 events:   0%|          | 0/82 [00:00<?, ?it/s]"
      ]
     },
     "metadata": {},
     "output_type": "display_data"
    },
    {
     "name": "stdout",
     "output_type": "stream",
     "text": [
      "No alliances for 2012la (Bayou Regional), skipping\n",
      "No alliances for 2012qc (Festival de Robotique FRC a Montreal Regional), skipping\n",
      "No alliances for 2012da (Dallas East Regional sponsored by jcpenney), skipping\n",
      "No alliances for 2012da2 (Dallas West Regional sponsored by jcpenney), skipping\n",
      "No alliances for 2012nv (Las Vegas Regional), skipping\n"
     ]
    },
    {
     "data": {
      "application/vnd.jupyter.widget-view+json": {
       "model_id": "09ef72a4ed764f49a415dde70ece7318",
       "version_major": 2,
       "version_minor": 0
      },
      "text/plain": [
       "Processing 2013 events:   0%|          | 0/129 [00:00<?, ?it/s]"
      ]
     },
     "metadata": {},
     "output_type": "display_data"
    },
    {
     "name": "stdout",
     "output_type": "stream",
     "text": [
      "No alliances for 2013wase (Seattle Regional), skipping\n",
      "No alliances for 2013mele (Pine Tree Regional), skipping\n",
      "No alliances for 2013nvlv (Las Vegas Regional), skipping\n"
     ]
    },
    {
     "data": {
      "application/vnd.jupyter.widget-view+json": {
       "model_id": "851d6d7268374802b0b93167c460e81d",
       "version_major": 2,
       "version_minor": 0
      },
      "text/plain": [
       "Processing 2014 events:   0%|          | 0/166 [00:00<?, ?it/s]"
      ]
     },
     "metadata": {},
     "output_type": "display_data"
    },
    {
     "data": {
      "application/vnd.jupyter.widget-view+json": {
       "model_id": "b9ae62663b0f4a359b853e03d16b940a",
       "version_major": 2,
       "version_minor": 0
      },
      "text/plain": [
       "Processing 2015 events:   0%|          | 0/181 [00:00<?, ?it/s]"
      ]
     },
     "metadata": {},
     "output_type": "display_data"
    },
    {
     "data": {
      "application/vnd.jupyter.widget-view+json": {
       "model_id": "1c4e5db81cb14f499f788e499a5288bb",
       "version_major": 2,
       "version_minor": 0
      },
      "text/plain": [
       "Processing 2016 events:   0%|          | 0/203 [00:00<?, ?it/s]"
      ]
     },
     "metadata": {},
     "output_type": "display_data"
    },
    {
     "data": {
      "application/vnd.jupyter.widget-view+json": {
       "model_id": "636ba1737bfb42daa51b24e696e3f49b",
       "version_major": 2,
       "version_minor": 0
      },
      "text/plain": [
       "Processing 2017 events:   0%|          | 0/256 [00:00<?, ?it/s]"
      ]
     },
     "metadata": {},
     "output_type": "display_data"
    },
    {
     "data": {
      "application/vnd.jupyter.widget-view+json": {
       "model_id": "7f846b2c06b148d4b198d32590025a78",
       "version_major": 2,
       "version_minor": 0
      },
      "text/plain": [
       "Processing 2018 events:   0%|          | 0/278 [00:00<?, ?it/s]"
      ]
     },
     "metadata": {},
     "output_type": "display_data"
    },
    {
     "data": {
      "application/vnd.jupyter.widget-view+json": {
       "model_id": "c4c154809b4943499194defb8982f536",
       "version_major": 2,
       "version_minor": 0
      },
      "text/plain": [
       "Processing 2019 events:   0%|          | 0/303 [00:00<?, ?it/s]"
      ]
     },
     "metadata": {},
     "output_type": "display_data"
    },
    {
     "data": {
      "application/vnd.jupyter.widget-view+json": {
       "model_id": "f2fe9e6bbabe4a478d2987ebe3505018",
       "version_major": 2,
       "version_minor": 0
      },
      "text/plain": [
       "Processing 2020 events:   0%|          | 0/196 [00:00<?, ?it/s]"
      ]
     },
     "metadata": {},
     "output_type": "display_data"
    },
    {
     "data": {
      "application/vnd.jupyter.widget-view+json": {
       "model_id": "70df8a0a462b4e1b8e59044ce44e480e",
       "version_major": 2,
       "version_minor": 0
      },
      "text/plain": [
       "Processing 2022 events:   0%|          | 0/288 [00:00<?, ?it/s]"
      ]
     },
     "metadata": {},
     "output_type": "display_data"
    },
    {
     "name": "stdout",
     "output_type": "stream",
     "text": [
      "No alliances for 2022zhha (Nanjing Regional), skipping\n"
     ]
    },
    {
     "data": {
      "application/vnd.jupyter.widget-view+json": {
       "model_id": "8e27c588c076496ea89d316e7fb3e418",
       "version_major": 2,
       "version_minor": 0
      },
      "text/plain": [
       "Processing 2023 events:   0%|          | 0/309 [00:00<?, ?it/s]"
      ]
     },
     "metadata": {},
     "output_type": "display_data"
    },
    {
     "name": "stdout",
     "output_type": "stream",
     "text": [
      "No alliances for 2023tuis3 (Izmir Regional), skipping\n"
     ]
    },
    {
     "data": {
      "application/vnd.jupyter.widget-view+json": {
       "model_id": "298e916649174eeb9c83524398a223f5",
       "version_major": 2,
       "version_minor": 0
      },
      "text/plain": [
       "Processing 2024 events:   0%|          | 0/323 [00:00<?, ?it/s]"
      ]
     },
     "metadata": {},
     "output_type": "display_data"
    },
    {
     "data": {
      "application/vnd.jupyter.widget-view+json": {
       "model_id": "b7cd5e6f3de2416b85702f780eba4adc",
       "version_major": 2,
       "version_minor": 0
      },
      "text/plain": [
       "Processing 2025 events:   0%|          | 0/222 [00:00<?, ?it/s]"
      ]
     },
     "metadata": {},
     "output_type": "display_data"
    }
   ],
   "source": [
    "TEAM_EVENT_PICK: dict[str, dict[str, int]] = defaultdict(dict)\n",
    "EVENT_KEY_MAP: dict[str, str] = {}\n",
    "EVENT_MAP: dict[str, Event] = {}\n",
    "\n",
    "for year in trange(2010, 2026):\n",
    "    if year == 2021:\n",
    "        continue\n",
    "    events: list[Event] = session.get(f\"{ROOT_URL}/events/{year}\").json()\n",
    "    for event in tqdm(sorted(events, key=lambda e: e[\"start_date\"]), desc=f\"Processing {year} events\", leave=False):\n",
    "        EVENT_KEY_MAP[event[\"key\"]] = event[\"parent_event_key\"] or event[\"key\"]\n",
    "        EVENT_MAP[event[\"key\"]] = event\n",
    "        if (\n",
    "            event[\"event_type\"] >= 6\n",
    "            or \"cancelled\" in event[\"name\"].lower()\n",
    "            or event[\"event_code\"].startswith(\"award\")\n",
    "            or event[\"event_code\"].startswith(\"cmp\")\n",
    "        ):\n",
    "            continue\n",
    "        teams: list[str] = session.get(\n",
    "            f\"{ROOT_URL}/event/{event['key']}/teams/keys\"\n",
    "        ).json()\n",
    "        for team in teams:\n",
    "            TEAM_EVENT_PICK[team][EVENT_KEY_MAP[event[\"key\"]]] = -1\n",
    "        alliances: list[EliminationAlliance] = session.get(\n",
    "            f\"{ROOT_URL}/event/{event['key']}/alliances\"\n",
    "        ).json()\n",
    "        if not alliances:\n",
    "            if event[\"key\"] in EXTRA_ALLIANCES:\n",
    "                for alliance in EXTRA_ALLIANCES[event[\"key\"]]:\n",
    "                    for i, team in enumerate(alliance):\n",
    "                        TEAM_EVENT_PICK[team][EVENT_KEY_MAP[event[\"key\"]]] = i\n",
    "                continue\n",
    "            print(f\"No alliances for {event['key']} ({event[\"name\"]}), skipping\")\n",
    "            continue\n",
    "        for alliance in alliances:\n",
    "            if alliance[\"picks\"]:\n",
    "                for i, team in enumerate(alliance[\"picks\"]):\n",
    "                    if team.endswith(\"*\"):\n",
    "                        team = team[:-1]\n",
    "                    TEAM_EVENT_PICK[team][EVENT_KEY_MAP[event[\"key\"]]] = i"
   ]
  },
  {
   "cell_type": "code",
   "execution_count": 38,
   "metadata": {},
   "outputs": [],
   "source": [
    "def longest_streak(pick_range: range) -> dict[str, tuple[int, dict[str, int]]]:\n",
    "    longest_streak: dict[str, tuple[int, dict[str, int]]] = {}\n",
    "    for team_key, events in tqdm(TEAM_EVENT_PICK.items()):\n",
    "        longest_streak[team_key] = (0, {})\n",
    "        items = list(events.items())\n",
    "        start = -1\n",
    "        for end in range(len(items)):\n",
    "            if items[end][1] not in pick_range:\n",
    "                start = -1\n",
    "                continue\n",
    "            elif start == -1:\n",
    "                start = end\n",
    "            else:\n",
    "                while items[start][1] not in pick_range:\n",
    "                    start += 1\n",
    "                    if start >= end:\n",
    "                        break\n",
    "            if end - start + 1 > longest_streak[team_key][0]:\n",
    "                longest_streak[team_key] = (\n",
    "                    end - start + 1,\n",
    "                    dict(items[start : end + 1]),\n",
    "                )\n",
    "    return longest_streak"
   ]
  },
  {
   "cell_type": "code",
   "execution_count": 45,
   "metadata": {},
   "outputs": [
    {
     "data": {
      "application/vnd.jupyter.widget-view+json": {
       "model_id": "dc4787a29f29480098a8a5ef9cdb0208",
       "version_major": 2,
       "version_minor": 0
      },
      "text/plain": [
       "  0%|          | 0/7089 [00:00<?, ?it/s]"
      ]
     },
     "metadata": {},
     "output_type": "display_data"
    },
    {
     "name": "stdout",
     "output_type": "stream",
     "text": [
      "[details=\"61 Events\"]\n",
      "## [118](https://www.thebluealliance.com/team/118)\n",
      "* [2011 Midwest Regional](https://www.thebluealliance.com/event/2011il) - Pick 1\n",
      "* [2011 Einstein Field](https://www.thebluealliance.com/event/2011cmp) - Pick 1\n",
      "* [2012 Alamo Regional](https://www.thebluealliance.com/event/2012stx) - Pick 1\n",
      "* [2012 Northeast Utilities FIRST Connecticut Regional](https://www.thebluealliance.com/event/2012ct) - Pick 1\n",
      "* [2012 Lone Star Regional](https://www.thebluealliance.com/event/2012tx) - Pick 1\n",
      "* [2012 Einstein Field](https://www.thebluealliance.com/event/2012cmp) - Pick 1\n",
      "* [2013 Lone Star Regional](https://www.thebluealliance.com/event/2013txho) - Captain\n",
      "* [2013 Bayou Regional](https://www.thebluealliance.com/event/2013lake) - Pick 1\n",
      "* [2013 Silicon Valley Regional](https://www.thebluealliance.com/event/2013casj) - Pick 1\n",
      "* [2013 Einstein Field](https://www.thebluealliance.com/event/2013cmp) - Captain\n",
      "* [2014 Alamo Regional sponsored by Rackspace Hosting](https://www.thebluealliance.com/event/2014txsa) - Pick 1\n",
      "* [2014 Greater Kansas City Regional](https://www.thebluealliance.com/event/2014mokc) - Captain\n",
      "* [2014 Lone Star Regional](https://www.thebluealliance.com/event/2014txho) - Pick 1\n",
      "* [2014 Einstein Field](https://www.thebluealliance.com/event/2014cmp) - Captain\n",
      "* [2015 Dallas Regional](https://www.thebluealliance.com/event/2015txda) - Captain\n",
      "* [2015 Sacramento Regional](https://www.thebluealliance.com/event/2015casa) - Captain\n",
      "* [2015 Lone Star Regional](https://www.thebluealliance.com/event/2015txho) - Captain\n",
      "* [2015 Einstein Field](https://www.thebluealliance.com/event/2015cmp) - Captain\n",
      "* [2016 Greater Toronto East Regional ](https://www.thebluealliance.com/event/2016onto) - Pick 1\n",
      "* [2016 Rocket City Regional](https://www.thebluealliance.com/event/2016alhu) - Pick 1\n",
      "* [2016 Lone Star Regional](https://www.thebluealliance.com/event/2016txho) - Captain\n",
      "* [2016 Einstein Field](https://www.thebluealliance.com/event/2016cmp) - Pick 1\n",
      "* [2017 Hub City Regional](https://www.thebluealliance.com/event/2017txlu) - Captain\n",
      "* [2017 Lone Star Central Regional](https://www.thebluealliance.com/event/2017txho) - Captain\n",
      "* [2017 Las Vegas Regional](https://www.thebluealliance.com/event/2017nvlv) - Captain\n",
      "* [2017 Einstein Field (Houston)](https://www.thebluealliance.com/event/2017cmptx) - Captain\n",
      "* [2018 Dallas Regional](https://www.thebluealliance.com/event/2018txda) - Pick 1\n",
      "* [2018 Colorado Regional](https://www.thebluealliance.com/event/2018code) - Captain\n",
      "* [2018 Lone Star South Regional](https://www.thebluealliance.com/event/2018txpa) - Pick 1\n",
      "* [2018 Einstein Field (Houston)](https://www.thebluealliance.com/event/2018cmptx) - Pick 1\n",
      "* [2019 FIT District El Paso Event](https://www.thebluealliance.com/event/2019txelp) - Captain\n",
      "* [2019 Arizona North Regional](https://www.thebluealliance.com/event/2019azfl) - Captain\n",
      "* [2019 FIT District Pasadena Event](https://www.thebluealliance.com/event/2019txpas) - Captain\n",
      "* [2019 FIRST In Texas District Championship](https://www.thebluealliance.com/event/2019ftcmp) - Captain\n",
      "* [2019 Einstein Field (Houston)](https://www.thebluealliance.com/event/2019cmptx) - Pick 1\n",
      "* [2020 FIT District Plano Event](https://www.thebluealliance.com/event/2020txpla) - Pick 1\n",
      "* [2022 FIT District Channelview Event](https://www.thebluealliance.com/event/2022txcha) - Captain\n",
      "* [2022 FIT District Irving Event](https://www.thebluealliance.com/event/2022txirv) - Captain\n",
      "* [2022 Bayou Regional presented by Entergy](https://www.thebluealliance.com/event/2022lake) - Pick 1\n",
      "* [2022 FIRST In Texas District Championship](https://www.thebluealliance.com/event/2022txcmp) - Captain\n",
      "* [2022 Einstein Field](https://www.thebluealliance.com/event/2022cmptx) - Pick 1\n",
      "* [2023 FIT District Channelview Event](https://www.thebluealliance.com/event/2023txcha) - Captain\n",
      "* [2023 Magnolia Regional](https://www.thebluealliance.com/event/2023mslr) - Pick 1\n",
      "* [2023 FIT District Houston Event](https://www.thebluealliance.com/event/2023txhou) - Captain\n",
      "* [2023 FIT District Space City @ Clear Lake Event](https://www.thebluealliance.com/event/2023txcle) - Captain\n",
      "* [2023 FIRST In Texas District Championship presented by Phillips 66](https://www.thebluealliance.com/event/2023txcmp) - Captain\n",
      "* [2023 Einstein Field](https://www.thebluealliance.com/event/2023cmptx) - Captain\n",
      "* [2024 FIT District Katy Event](https://www.thebluealliance.com/event/2024txkat) - Captain\n",
      "* [2024 Green Country Regional](https://www.thebluealliance.com/event/2024oktu) - Pick 1\n",
      "* [2024 Tallahassee Regional](https://www.thebluealliance.com/event/2024flta) - Captain\n",
      "* [2024 FIT District Houston Event](https://www.thebluealliance.com/event/2024txhou) - Captain\n",
      "* [2024 FIT District Space City @ Friendswood Event](https://www.thebluealliance.com/event/2024txcle) - Captain\n",
      "* [2024 FIRST In Texas District Championship](https://www.thebluealliance.com/event/2024txcmp) - Pick 1\n",
      "* [2024 Einstein Field](https://www.thebluealliance.com/event/2024cmptx) - Pick 1\n",
      "* [2025 FIT District Tomball Event](https://www.thebluealliance.com/event/2025txtom) - Captain\n",
      "* [2025 Arkansas Regional](https://www.thebluealliance.com/event/2025arli) - Pick 1\n",
      "* [2025 FIT District Manor Event](https://www.thebluealliance.com/event/2025txman) - Captain\n",
      "* [2025 FIT District Houston Event](https://www.thebluealliance.com/event/2025txhou) - Captain\n",
      "* [2025 FIT District Space City @ Friendswood Event](https://www.thebluealliance.com/event/2025txcle) - Captain\n",
      "* [2025 FIRST In Texas District Championship](https://www.thebluealliance.com/event/2025txcmp) - Captain\n",
      "* [2025 Einstein Field](https://www.thebluealliance.com/event/2025cmptx) - Captain\n",
      "[/details]\n",
      "[details=\"53 Events\"]\n",
      "## [33](https://www.thebluealliance.com/team/33)\n",
      "* [2010 Kettering University FIRST Robotics District Competition](https://www.thebluealliance.com/event/2010gg) - Pick 1\n",
      "* [2010 Troy FIRST Robotics District Competition](https://www.thebluealliance.com/event/2010oc) - Captain\n",
      "* [2010 Michigan FIRST Robotics Competition State Championship](https://www.thebluealliance.com/event/2010gl) - Captain\n",
      "* [2010 Einstein Field](https://www.thebluealliance.com/event/2010cmp) - Captain\n",
      "* [2011 Kettering University FIRST Robotics District Competition](https://www.thebluealliance.com/event/2011gg) - Captain\n",
      "* [2011 Troy FIRST Robotics District Competition](https://www.thebluealliance.com/event/2011oc) - Pick 1\n",
      "* [2011 Michigan FIRST Robotics District Competition State Championship](https://www.thebluealliance.com/event/2011gl) - Captain\n",
      "* [2011 Einstein Field](https://www.thebluealliance.com/event/2011cmp) - Pick 1\n",
      "* [2012 Kettering University FIRST Robotics District Competition](https://www.thebluealliance.com/event/2012gg) - Pick 1\n",
      "* [2012 Troy FIRST Robotics District Competition](https://www.thebluealliance.com/event/2012oc) - Pick 1\n",
      "* [2012 Michigan FRC State Championship](https://www.thebluealliance.com/event/2012gl) - Pick 1\n",
      "* [2012 Einstein Field](https://www.thebluealliance.com/event/2012cmp) - Captain\n",
      "* [2013 Waterford FIRST Robotics District Competition](https://www.thebluealliance.com/event/2013miwfd) - Pick 1\n",
      "* [2013 Grand Blanc FIRST Robotics District Competition](https://www.thebluealliance.com/event/2013migbl) - Captain\n",
      "* [2013 Bedford FIRST Robotics District Competition](https://www.thebluealliance.com/event/2013mibed) - Pick 1\n",
      "* [2013 Michigan FRC State Championship](https://www.thebluealliance.com/event/2013micmp) - Pick 1\n",
      "* [2013 Einstein Field](https://www.thebluealliance.com/event/2013cmp) - Captain\n",
      "* [2014 Southfield FIRST Robotics District Competition](https://www.thebluealliance.com/event/2014misou) - Captain\n",
      "* [2014 Great Lakes Bay Region FIRST Robotics District Competition](https://www.thebluealliance.com/event/2014mimid) - Pick 1\n",
      "* [2014 Troy FIRST Robotics District Competition](https://www.thebluealliance.com/event/2014mitry) - Pick 1\n",
      "* [2014 Michigan FRC State Championship](https://www.thebluealliance.com/event/2014micmp) - Pick 1\n",
      "* [2014 Einstein Field](https://www.thebluealliance.com/event/2014cmp) - Pick 1\n",
      "* [2015 FIM District - Southfield Event](https://www.thebluealliance.com/event/2015misou) - Captain\n",
      "* [2015 FIM District - Troy Event](https://www.thebluealliance.com/event/2015mitry) - Captain\n",
      "* [2015 FIRST in Michigan District Championship](https://www.thebluealliance.com/event/2015micmp) - Captain\n",
      "* [2015 Einstein Field](https://www.thebluealliance.com/event/2015cmp) - Pick 1\n",
      "* [2016 FIM District - Waterford Event](https://www.thebluealliance.com/event/2016miwat) - Pick 1\n",
      "* [2016 FIM District - Troy Event](https://www.thebluealliance.com/event/2016mitry) - Captain\n",
      "* [2016 Michigan State Championship](https://www.thebluealliance.com/event/2016micmp) - Pick 1\n",
      "* [2016 Einstein Field](https://www.thebluealliance.com/event/2016cmp) - Pick 1\n",
      "* [2017 FIM District - Southfield Event](https://www.thebluealliance.com/event/2017misou) - Captain\n",
      "* [2017 FIM District - Waterford Event](https://www.thebluealliance.com/event/2017miwat) - Pick 1\n",
      "* [2017 ONT District - Windsor Essex Great Lakes Event](https://www.thebluealliance.com/event/2017onwin) - Pick 1\n",
      "* [2017 Michigan State Championship](https://www.thebluealliance.com/event/2017micmp) - Captain\n",
      "* [2017 Einstein Field (St. Louis)](https://www.thebluealliance.com/event/2017cmpmo) - Captain\n",
      "* [2018 FIM District Southfield Event](https://www.thebluealliance.com/event/2018misou) - Pick 1\n",
      "* [2018 FIM District Milford Event](https://www.thebluealliance.com/event/2018mimil) - Pick 1\n",
      "* [2018 ONT District Windsor Essex Great Lakes Event](https://www.thebluealliance.com/event/2018onwin) - Pick 1\n",
      "* [2018 Michigan State Championship](https://www.thebluealliance.com/event/2018micmp) - Captain\n",
      "* [2018 Einstein Field (Detroit)](https://www.thebluealliance.com/event/2018cmpmi) - Pick 1\n",
      "* [2019 FIM District Southfield Event](https://www.thebluealliance.com/event/2019misou) - Captain\n",
      "* [2019 FIM District Center Line Event](https://www.thebluealliance.com/event/2019micen) - Captain\n",
      "* [2019 FIM District Alpena Event #2](https://www.thebluealliance.com/event/2019mial2) - Pick 1\n",
      "* [2019 Michigan State Championship](https://www.thebluealliance.com/event/2019micmp) - Pick 1\n",
      "* [2019 Einstein Field (Detroit)](https://www.thebluealliance.com/event/2019cmpmi) - Pick 1\n",
      "* [2020 FIM District Southfield Event](https://www.thebluealliance.com/event/2020misou) - Captain\n",
      "* [2022 FIM District Detroit Event](https://www.thebluealliance.com/event/2022midet) - Captain\n",
      "* [2022 FIM District Belleville Event](https://www.thebluealliance.com/event/2022mibel) - Pick 1\n",
      "* [2022 FIRST in Michigan State Championship](https://www.thebluealliance.com/event/2022micmp) - Pick 1\n",
      "* [2022 Einstein Field](https://www.thebluealliance.com/event/2022cmptx) - Pick 1\n",
      "* [2023 FIM District Kettering University Event #1 presented by Ford](https://www.thebluealliance.com/event/2023miket) - Captain\n",
      "* [2023 FIM District Belleville Event presented by Belleville Yacht Club](https://www.thebluealliance.com/event/2023mibel) - Captain\n",
      "* [2023 FIRST in Michigan State Championship presented by DTE Foundation](https://www.thebluealliance.com/event/2023micmp) - Pick 1\n",
      "[/details]\n",
      "[details=\"52 Events\"]\n",
      "## [2056](https://www.thebluealliance.com/team/2056)\n",
      "* [2010 Einstein Field](https://www.thebluealliance.com/event/2010cmp) - Pick 1\n",
      "* [2011 Finger Lakes Regional](https://www.thebluealliance.com/event/2011roc) - Captain\n",
      "* [2011 Waterloo Regional](https://www.thebluealliance.com/event/2011wat) - Pick 1\n",
      "* [2011 Greater Toronto West Regional](https://www.thebluealliance.com/event/2011on2) - Captain\n",
      "* [2011 Einstein Field](https://www.thebluealliance.com/event/2011cmp) - Pick 1\n",
      "* [2012 Greater Toronto East Regional](https://www.thebluealliance.com/event/2012on) - Pick 1\n",
      "* [2012 Waterloo Regional](https://www.thebluealliance.com/event/2012wat) - Pick 1\n",
      "* [2012 Greater Toronto West Regional](https://www.thebluealliance.com/event/2012on2) - Captain\n",
      "* [2012 Einstein Field](https://www.thebluealliance.com/event/2012cmp) - Captain\n",
      "* [2013 Greater Toronto East Regional](https://www.thebluealliance.com/event/2013onto) - Captain\n",
      "* [2013 Waterloo Regional](https://www.thebluealliance.com/event/2013onwa) - Captain\n",
      "* [2013 Greater Toronto West Regional](https://www.thebluealliance.com/event/2013onto2) - Captain\n",
      "* [2013 Einstein Field](https://www.thebluealliance.com/event/2013cmp) - Captain\n",
      "* [2014 Waterloo Regional ](https://www.thebluealliance.com/event/2014onwa) - Pick 1\n",
      "* [2014 Windsor Essex Great Lakes Regional](https://www.thebluealliance.com/event/2014onwi) - Pick 1\n",
      "* [2014 Einstein Field](https://www.thebluealliance.com/event/2014cmp) - Pick 1\n",
      "* [2015 Greater Toronto East Regional](https://www.thebluealliance.com/event/2015onto) - Captain\n",
      "* [2015 Waterloo Regional](https://www.thebluealliance.com/event/2015onwa) - Pick 1\n",
      "* [2015 Windsor Essex Great Lakes Regional](https://www.thebluealliance.com/event/2015onwi) - Pick 1\n",
      "* [2015 Einstein Field](https://www.thebluealliance.com/event/2015cmp) - Captain\n",
      "* [2016 Greater Toronto East Regional ](https://www.thebluealliance.com/event/2016onto) - Captain\n",
      "* [2016 Waterloo Regional ](https://www.thebluealliance.com/event/2016onwa) - Pick 1\n",
      "* [2016 Windsor Essex Great Lakes Regional](https://www.thebluealliance.com/event/2016onwi) - Pick 1\n",
      "* [2016 Einstein Field](https://www.thebluealliance.com/event/2016cmp) - Captain\n",
      "* [2017 ONT District - University of Waterloo Event](https://www.thebluealliance.com/event/2017onwat) - Captain\n",
      "* [2017 ONT District - McMaster University Event](https://www.thebluealliance.com/event/2017onham) - Captain\n",
      "* [2017 FIRST Ontario Provincial Championship](https://www.thebluealliance.com/event/2017oncmp) - Captain\n",
      "* [2017 Einstein Field (St. Louis)](https://www.thebluealliance.com/event/2017cmpmo) - Captain\n",
      "* [2018 ONT District University of Waterloo Event](https://www.thebluealliance.com/event/2018onwat) - Captain\n",
      "* [2018 ONT District McMaster University Event](https://www.thebluealliance.com/event/2018onham) - Captain\n",
      "* [2018 FIRST Ontario Provincial Championship](https://www.thebluealliance.com/event/2018oncmp) - Captain\n",
      "* [2018 Einstein Field (Detroit)](https://www.thebluealliance.com/event/2018cmpmi) - Captain\n",
      "* [2019 ONT District University of Waterloo Event](https://www.thebluealliance.com/event/2019onwat) - Captain\n",
      "* [2019 ONT District McMaster University Event](https://www.thebluealliance.com/event/2019onham) - Captain\n",
      "* [2019 FIRST Ontario Provincial Championship](https://www.thebluealliance.com/event/2019oncmp) - Captain\n",
      "* [2019 Einstein Field (Detroit)](https://www.thebluealliance.com/event/2019cmpmi) - Pick 1\n",
      "* [2022 ONT District University of Waterloo Event Day 2](https://www.thebluealliance.com/event/2022on326) - Pick 1\n",
      "* [2022 ONT District St. Mary C.S.S. Event Day 1](https://www.thebluealliance.com/event/2022on409) - Captain\n",
      "* [2022 FIRST Ontario Provincial Championship](https://www.thebluealliance.com/event/2022oncmp) - Captain\n",
      "* [2022 Einstein Field](https://www.thebluealliance.com/event/2022cmptx) - Pick 1\n",
      "* [2023 ONT District Newmarket Complex Event](https://www.thebluealliance.com/event/2023onnew) - Captain\n",
      "* [2023 ONT District McMaster University](https://www.thebluealliance.com/event/2023onham) - Captain\n",
      "* [2023 FIRST Ontario Provincial Championship](https://www.thebluealliance.com/event/2023oncmp) - Captain\n",
      "* [2023 Einstein Field](https://www.thebluealliance.com/event/2023cmptx) - Captain\n",
      "* [2024 ONT District Newmarket Complex Event](https://www.thebluealliance.com/event/2024onnew) - Captain\n",
      "* [2024 ONT District McMaster University](https://www.thebluealliance.com/event/2024onham) - Captain\n",
      "* [2024 FIRST Ontario Provincial Championship](https://www.thebluealliance.com/event/2024oncmp) - Captain\n",
      "* [2024 Einstein Field](https://www.thebluealliance.com/event/2024cmptx) - Captain\n",
      "* [2025 ONT District Niagara College Event](https://www.thebluealliance.com/event/2025onwel) - Captain\n",
      "* [2025 ONT District McMaster University](https://www.thebluealliance.com/event/2025onham) - Captain\n",
      "* [2025 FIRST Ontario Provincial Championship](https://www.thebluealliance.com/event/2025oncmp) - Pick 1\n",
      "* [2025 Einstein Field](https://www.thebluealliance.com/event/2025cmptx) - Captain\n",
      "[/details]\n"
     ]
    }
   ],
   "source": [
    "SENTINEL = 200\n",
    "prev_length = SENTINEL\n",
    "min_length = 50\n",
    "should_be_active = False\n",
    "for team_key, vals in sorted(\n",
    "    longest_streak(range(0, 2)).items(), key=lambda x: (x[1][0], 20000 - int(x[0][3:])), reverse=True\n",
    "):\n",
    "    length, picks = vals\n",
    "    if length < min_length:\n",
    "        print(\"[/details]\")\n",
    "        break\n",
    "    if should_be_active and not (\n",
    "        list(picks.keys())[-1] == list(TEAM_EVENT_PICK[team_key].keys())[-1]\n",
    "        and list(picks.keys())[-1].startswith(\"2025\")\n",
    "    ):\n",
    "        continue\n",
    "    if length < prev_length:\n",
    "        if prev_length != SENTINEL:\n",
    "            print(\"[/details]\")\n",
    "        print(f'[details=\"{length} Events\"]')\n",
    "        prev_length = length\n",
    "    print(f\"## [{team_key[3:]}](https://www.thebluealliance.com/team/{team_key[3:]})\")\n",
    "    for event_key, pick in picks.items():\n",
    "        print(\n",
    "            f\"* [{EVENT_MAP[event_key][\"year\"]} {EVENT_MAP[event_key][\"name\"]}](https://www.thebluealliance.com/event/{event_key}) - {\"Captain\" if pick == 0 else \"Pick \" + str(pick)}\"\n",
    "        )"
   ]
  },
  {
   "cell_type": "code",
   "execution_count": null,
   "metadata": {},
   "outputs": [],
   "source": [
    "if \"get_ipython\" not in globals():\n",
    "    import json\n",
    "    import pathlib\n",
    "\n",
    "    output_folder = pathlib.Path(__file__).parent / \"build\"\n",
    "\n",
    "    config = {\n",
    "        \"columns\": [\n",
    "            {\n",
    "                \"name\": \"team\",\n",
    "                \"type\": \"team\",\n",
    "                \"displayName\": \"Team\",\n",
    "            },\n",
    "            {\n",
    "                \"name\": \"length\",\n",
    "                \"type\": \"integer\",\n",
    "                \"displayName\": \"Streak Length\",\n",
    "            },\n",
    "            {\n",
    "                \"name\": \"event_start\",\n",
    "                \"type\": \"event\",\n",
    "                \"displayName\": \"Start Event\",\n",
    "            },\n",
    "            {\n",
    "                \"name\": \"event_end\",\n",
    "                \"type\": \"event\",\n",
    "                \"displayName\": \"End Event\",\n",
    "            },\n",
    "            {\n",
    "                \"name\": \"active\",\n",
    "                \"type\": \"boolean\",\n",
    "                \"displayName\": \"Active\",\n",
    "            },\n",
    "        ],\n",
    "        \"defaultSort\": [{\"column\": \"length\", \"direction\": -1}],\n",
    "        \"primaryKey\": \"team\",\n",
    "    }\n",
    "\n",
    "    with (output_folder / \"alliance-captain-streaks.config.json\").open(\"w\") as f:\n",
    "        json.dump({**config, \"title\": \"Alliance Captain Streaks\"}, f, indent=None)\n",
    "    with (output_folder / \"alliance-captain-streaks.json\").open(\"w\") as f:\n",
    "        json.dump(\n",
    "            [\n",
    "                {\n",
    "                    \"team\": team_key,\n",
    "                    \"length\": vals[0],\n",
    "                    \"event_start\": list(vals[1].keys())[0],\n",
    "                    \"event_end\": list(vals[1].keys())[-1],\n",
    "                    \"active\": list(vals[1].keys())[-1]\n",
    "                    == list(TEAM_EVENT_PICK[team_key].keys())[-1]\n",
    "                    and list(vals[1].keys())[-1].startswith(\"2025\"),\n",
    "                }\n",
    "                for team_key, vals in longest_streak(range(1)).items()\n",
    "                if list(vals[1].keys())\n",
    "            ],\n",
    "            f,\n",
    "            indent=None,\n",
    "        )\n",
    "    with (output_folder / \"captain-first-pick.config.json\").open(\"w\") as f:\n",
    "        json.dump(\n",
    "            {\n",
    "                **config,\n",
    "                \"title\": \"Captain/1st Pick Streaks\",\n",
    "            },\n",
    "            f,\n",
    "            indent=None,\n",
    "        )\n",
    "    with (output_folder / \"captain-first-pick.json\").open(\"w\") as f:\n",
    "        json.dump(\n",
    "            [\n",
    "                {\n",
    "                    \"team\": team_key,\n",
    "                    \"length\": vals[0],\n",
    "                    \"event_start\": list(vals[1].keys())[0],\n",
    "                    \"event_end\": list(vals[1].keys())[-1],\n",
    "                    \"active\": list(vals[1].keys())[-1]\n",
    "                    == list(TEAM_EVENT_PICK[team_key].keys())[-1]\n",
    "                    and list(vals[1].keys())[-1].startswith(\"2025\"),\n",
    "                }\n",
    "                for team_key, vals in longest_streak(range(2)).items()\n",
    "                if list(vals[1].keys())\n",
    "            ],\n",
    "            f,\n",
    "            indent=None,\n",
    "        )"
   ]
  }
 ],
 "metadata": {
  "kernelspec": {
   "display_name": "Python 3",
   "language": "python",
   "name": "python3"
  },
  "language_info": {
   "codemirror_mode": {
    "name": "ipython",
    "version": 3
   },
   "file_extension": ".py",
   "mimetype": "text/x-python",
   "name": "python",
   "nbconvert_exporter": "python",
   "pygments_lexer": "ipython3",
   "version": "3.13.3"
  }
 },
 "nbformat": 4,
 "nbformat_minor": 2
}
