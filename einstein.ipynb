{
 "cells": [
  {
   "cell_type": "code",
   "execution_count": 21,
   "id": "11272612",
   "metadata": {},
   "outputs": [],
   "source": [
    "from tba_session import session, ROOT_URL, TEAM_PAGES\n",
    "from tba_types import Award, Event, Team\n",
    "from collections import defaultdict\n",
    "from tqdm.notebook import trange\n",
    "from itertools import pairwise"
   ]
  },
  {
   "cell_type": "code",
   "execution_count": 22,
   "id": "c6a555bd",
   "metadata": {},
   "outputs": [
    {
     "data": {
      "application/vnd.jupyter.widget-view+json": {
       "model_id": "5d85ca47f8b94020ad49a43703c0274b",
       "version_major": 2,
       "version_minor": 0
      },
      "text/plain": [
       "Getting Teams:   0%|          | 0/22 [00:00<?, ?it/s]"
      ]
     },
     "metadata": {},
     "output_type": "display_data"
    }
   ],
   "source": [
    "ALL_TEAMS: dict[str, Team] = {}\n",
    "\n",
    "for page in trange(TEAM_PAGES, desc=\"Getting Teams\", total=TEAM_PAGES, leave=False):\n",
    "    team: Team\n",
    "    for team in session.get(ROOT_URL + f\"/teams/{page}\").json():\n",
    "        ALL_TEAMS[team[\"key\"]] = team"
   ]
  },
  {
   "cell_type": "code",
   "execution_count": 23,
   "id": "270f3e99",
   "metadata": {},
   "outputs": [
    {
     "data": {
      "application/vnd.jupyter.widget-view+json": {
       "model_id": "54aa111a685049babd2c7aaa471822a2",
       "version_major": 2,
       "version_minor": 0
      },
      "text/plain": [
       "Fetching years by team:   0%|          | 0/25 [00:00<?, ?it/s]"
      ]
     },
     "metadata": {},
     "output_type": "display_data"
    }
   ],
   "source": [
    "einstein_years: dict[str, list[int]] =  defaultdict(list)\n",
    "cmp_years: dict[str, list[int]] = defaultdict(list)\n",
    "\n",
    "for year in trange(2001, 2026, desc=\"Fetching years by team\"):\n",
    "    events: list[Event] = session.get(f\"{ROOT_URL}/events/{year}\").json()\n",
    "    for event in events:\n",
    "        if event[\"event_type\"] == 3:\n",
    "            awards: list[Award] = session.get(f\"{ROOT_URL}/event/{event['key']}/awards\").json()\n",
    "            for award in awards:\n",
    "                if award[\"award_type\"] == 1:\n",
    "                    for recipient in award[\"recipient_list\"]:\n",
    "                        team_key = recipient[\"team_key\"]\n",
    "                        einstein_years[team_key].append(year)\n",
    "            teams: list[str] = session.get(f\"{ROOT_URL}/event/{event['key']}/teams/keys\").json()\n",
    "            for team_key in teams:\n",
    "                cmp_years[team_key].append(year)"
   ]
  },
  {
   "cell_type": "code",
   "execution_count": 28,
   "id": "6efbc519",
   "metadata": {},
   "outputs": [
    {
     "name": "stdout",
     "output_type": "stream",
     "text": [
      "| # | Team Number | Team Name | First Year | Second Year | Gap |\n",
      "| --- | --- | --- | --- | --- | --- |\n",
      "| 1 | 59 | RamTech | 2001 | 2023 | 22 year gap |\n",
      "| 2 | 190 | Gompei and the HERD | 2007 | 2024 | 17 year gap |\n",
      "| 3 | 125 | NUTRONs | 2001 | 2017 | 16 year gap |\n",
      "| 4 | 294 | Beach Cities Robotics | 2010 | 2024 | 14 year gap |\n",
      "| 5 | 494 | Martians | 2004 | 2018 | 14 year gap |\n",
      "| 6 | 302 | The Dragons | 2003 | 2017 | 14 year gap |\n",
      "| 7 | 868 | TechHOUNDS | 2004 | 2018 | 14 year gap |\n",
      "| 8 | 144 | Operation Orange | 2002 | 2015 | 13 year gap |\n",
      "| 9 | 180 | S.P.A.M. | 2012 | 2025 | 13 year gap |\n",
      "| 10 | 16 | Bomb Squad | 2012 | 2025 | 13 year gap |\n",
      "| 11 | 179 | Children of the Swamp | 2007 | 2019 | 12 year gap |\n",
      "| 12 | 118 | Robonauts | 2002 | 2012 | 10 year gap |\n",
      "| 13 | 180 | S.P.A.M. | 2002 | 2012 | 10 year gap |\n",
      "| 14 | 1218 | SCH Robotics | 2009 | 2019 | 10 year gap |\n",
      "| 15 | 195 | CyberKnights | 2006 | 2016 | 10 year gap |\n",
      "| 16 | 971 | Spartan Robotics | 2009 | 2019 | 10 year gap |\n",
      "| 17 | 1477 | Texas Torque | 2014 | 2024 | 10 year gap |\n",
      "| 18 | 294 | Beach Cities Robotics | 2001 | 2010 | 9 year gap |\n",
      "| 19 | 2590 | Nemesis | 2014 | 2023 | 9 year gap |\n",
      "| 20 | 2481 | Roboteers | 2016 | 2025 | 9 year gap |\n",
      "| 21 | 33 | Killer Bees | 2005 | 2013 | 8 year gap |\n",
      "| 22 | 111 | WildStang | 2011 | 2019 | 8 year gap |\n",
      "| 23 | 118 | Robonauts | 2017 | 2025 | 8 year gap |\n",
      "| 24 | 330 | The Beach Bots | 2007 | 2015 | 8 year gap |\n",
      "| 25 | 3357 | COMETS | 2010 | 2018 | 8 year gap |\n"
     ]
    }
   ],
   "source": [
    "print (\"| # | Team Number | Team Name | First Year | Second Year | Gap |\")\n",
    "print( \"| --- | --- | --- | --- | --- | --- |\")\n",
    "\n",
    "for idx, vals in enumerate(sorted(\n",
    "    (\n",
    "        (team_key, comp_years[0], comp_years[1], comp_years[1] - comp_years[0])\n",
    "        for team_key, comp_years in einstein_years.items()\n",
    "        if len(comp_years) >= 2\n",
    "        for comp_years in pairwise(sorted(comp_years))\n",
    "    ),\n",
    "    key=lambda x: x[3],\n",
    "    reverse=True\n",
    ")[:25], start=1):\n",
    "    team_key, first, second, gap = vals\n",
    "    team = ALL_TEAMS[team_key]\n",
    "    print(\n",
    "        f\"| {idx} | {team['team_number']} | {team['nickname']} | \"\n",
    "        f\"{first} | {second} | {gap} year gap |\"\n",
    "    )"
   ]
  },
  {
   "cell_type": "code",
   "execution_count": 31,
   "id": "538aced4",
   "metadata": {},
   "outputs": [
    {
     "name": "stdout",
     "output_type": "stream",
     "text": [
      "| # | Team Number | Team Name | Number of Championship Appearances |\n",
      "| --- | --- | --- | --- |\n",
      "| 1 | 45 | TechnoKats Robotics Team | 20 appearances |\n",
      "| 2 | 399 | Eagle Robotics | 19 appearances |\n",
      "| 3 | 103 | Cybersonics | 19 appearances |\n",
      "| 4 | 176 | Aces High | 18 appearances |\n",
      "| 5 | 11 | MORT | 18 appearances |\n",
      "| 6 | 88 | TJ² | 18 appearances |\n",
      "| 7 | 126 | Gael Force | 17 appearances |\n",
      "| 8 | 191 | X-CATS | 17 appearances |\n",
      "| 9 | 1538 | The Holy Cows | 17 appearances |\n",
      "| 10 | 1629 | Garrett Coalition (GaCo) | 17 appearances |\n",
      "| 11 | 573 | Mech Warriors | 16 appearances |\n",
      "| 12 | 842 | Falcon Robotics | 16 appearances |\n",
      "| 13 | 836 | The RoboBees | 16 appearances |\n",
      "| 14 | 1305 | Ice Cubed | 16 appearances |\n",
      "| 15 | 1816 | \"The Green Machine\" | 16 appearances |\n"
     ]
    }
   ],
   "source": [
    "print (\"| # | Team Number | Team Name | Number of Championship Appearances |\")\n",
    "print( \"| --- | --- | --- | --- |\")\n",
    "\n",
    "for idx, (team_key, years) in enumerate(\n",
    "    sorted(\n",
    "        ((team_key, len(years)) for team_key, years in cmp_years.items() if len(years) > 0 and team_key not in einstein_years),\n",
    "        key=lambda x: x[1],\n",
    "        reverse=True\n",
    "    )[:15], start=1\n",
    "):\n",
    "    team = ALL_TEAMS[team_key]\n",
    "    print(\n",
    "        f\"| {idx} | {team['team_number']} | {team['nickname']} | \"\n",
    "        f\"{years} appearances |\"\n",
    "    )"
   ]
  },
  {
   "cell_type": "code",
   "execution_count": 25,
   "id": "f0d20877",
   "metadata": {},
   "outputs": [
    {
     "name": "stdout",
     "output_type": "stream",
     "text": [
      " 349 Team 349                       2001 (last competed)\n",
      "  75 RoboRaiders                    2001 (last competed)\n",
      "  85 B.O.B. (Built on Brains)       2001 (last competed)\n",
      " 115 MVRT                           2001 (last competed)\n",
      "  53 Area 53                        2001 (last competed)\n",
      " 122 NASA Knights                   2001 (last competed)\n",
      " 279 Tech Fusion                    2001 (last competed)\n",
      " 365 Miracle Workerz                2001 (last competed)\n",
      " 308 Monsters                       2002 (last competed)\n",
      " 311 Red Jammers                    2002 (last competed)\n",
      "  66 Grizzly Robotics               2002 (last competed)\n",
      "  65 The Huskie Brigade             2003 (last competed)\n",
      " 343 Metal-In-Motion                2003 (last competed)\n",
      " 236 Techno-Ticks                   2003 (last competed)\n",
      " 341 Miss Daisy                     2003 (last competed)\n",
      " 292 PantherTech                    2003 (last competed)\n",
      " 378 The Circuit Stompers           2003 (last competed)\n",
      " 340 G.R.R. (Greater Rochester Robotics) 2004 (last competed)\n",
      " 435 Robodogs                       2004 (last competed)\n",
      "1038 Lakota Robotics                2004 (last competed)\n"
     ]
    }
   ],
   "source": [
    "for team_key, last in sorted(\n",
    "    (\n",
    "        (team_key, comp_years[-1])\n",
    "        for team_key, comp_years in einstein_years.items()\n",
    "        if len(comp_years) >= 1\n",
    "    ),\n",
    "    key=lambda x: x[1],\n",
    ")[:20]:\n",
    "    team = ALL_TEAMS[team_key]\n",
    "    print(f\"{team['team_number']:>4} {team['nickname']:<30} {last:>4} (last competed)\")"
   ]
  }
 ],
 "metadata": {
  "kernelspec": {
   "display_name": "Python 3",
   "language": "python",
   "name": "python3"
  },
  "language_info": {
   "codemirror_mode": {
    "name": "ipython",
    "version": 3
   },
   "file_extension": ".py",
   "mimetype": "text/x-python",
   "name": "python",
   "nbconvert_exporter": "python",
   "pygments_lexer": "ipython3",
   "version": "3.13.3"
  }
 },
 "nbformat": 4,
 "nbformat_minor": 5
}
