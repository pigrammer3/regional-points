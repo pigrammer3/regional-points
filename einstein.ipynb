{
 "cells": [
  {
   "cell_type": "code",
   "execution_count": 38,
   "id": "11272612",
   "metadata": {},
   "outputs": [],
   "source": [
    "from tba_session import session, ROOT_URL, TEAM_PAGES\n",
    "from tba_types import Award, Event, Team\n",
    "from collections import defaultdict\n",
    "from tqdm.notebook import trange, tqdm\n",
    "from itertools import pairwise"
   ]
  },
  {
   "cell_type": "code",
   "execution_count": 39,
   "id": "c6a555bd",
   "metadata": {},
   "outputs": [
    {
     "data": {
      "application/vnd.jupyter.widget-view+json": {
       "model_id": "abb13aaca6324b0cafb1d027cde56c41",
       "version_major": 2,
       "version_minor": 0
      },
      "text/plain": [
       "Getting Teams:   0%|          | 0/22 [00:00<?, ?it/s]"
      ]
     },
     "metadata": {},
     "output_type": "display_data"
    }
   ],
   "source": [
    "ALL_TEAMS: dict[str, Team] = {}\n",
    "\n",
    "for page in trange(TEAM_PAGES, desc=\"Getting Teams\", total=TEAM_PAGES, leave=False):\n",
    "    team: Team\n",
    "    for team in session.get(ROOT_URL + f\"/teams/{page}\").json():\n",
    "        ALL_TEAMS[team[\"key\"]] = team"
   ]
  },
  {
   "cell_type": "code",
   "execution_count": 43,
   "id": "270f3e99",
   "metadata": {},
   "outputs": [
    {
     "data": {
      "application/vnd.jupyter.widget-view+json": {
       "model_id": "e3f11baa872846afbb7142b16ca4a542",
       "version_major": 2,
       "version_minor": 0
      },
      "text/plain": [
       "Fetching years:   0%|          | 0/25 [00:00<?, ?it/s]"
      ]
     },
     "metadata": {},
     "output_type": "display_data"
    },
    {
     "data": {
      "application/vnd.jupyter.widget-view+json": {
       "model_id": "397b7cb810a24b0cb6b48e3204ab1c60",
       "version_major": 2,
       "version_minor": 0
      },
      "text/plain": [
       "Processing 2001 events:   0%|          | 0/18 [00:00<?, ?it/s]"
      ]
     },
     "metadata": {},
     "output_type": "display_data"
    },
    {
     "data": {
      "application/vnd.jupyter.widget-view+json": {
       "model_id": "c442639b06cf4025b48f4433a6fb4332",
       "version_major": 2,
       "version_minor": 0
      },
      "text/plain": [
       "Processing 2002 events:   0%|          | 0/22 [00:00<?, ?it/s]"
      ]
     },
     "metadata": {},
     "output_type": "display_data"
    },
    {
     "data": {
      "application/vnd.jupyter.widget-view+json": {
       "model_id": "c5b5dd40e50442c693089075d02e9e5a",
       "version_major": 2,
       "version_minor": 0
      },
      "text/plain": [
       "Processing 2003 events:   0%|          | 0/28 [00:00<?, ?it/s]"
      ]
     },
     "metadata": {},
     "output_type": "display_data"
    },
    {
     "data": {
      "application/vnd.jupyter.widget-view+json": {
       "model_id": "f355d812994f412eabe7b4480eb981e6",
       "version_major": 2,
       "version_minor": 0
      },
      "text/plain": [
       "Processing 2004 events:   0%|          | 0/32 [00:00<?, ?it/s]"
      ]
     },
     "metadata": {},
     "output_type": "display_data"
    },
    {
     "data": {
      "application/vnd.jupyter.widget-view+json": {
       "model_id": "2c6581f00a994f99a9135dae380b481a",
       "version_major": 2,
       "version_minor": 0
      },
      "text/plain": [
       "Processing 2005 events:   0%|          | 0/37 [00:00<?, ?it/s]"
      ]
     },
     "metadata": {},
     "output_type": "display_data"
    },
    {
     "data": {
      "application/vnd.jupyter.widget-view+json": {
       "model_id": "6ce2f99be32d41608ff7f27c85fcc659",
       "version_major": 2,
       "version_minor": 0
      },
      "text/plain": [
       "Processing 2006 events:   0%|          | 0/40 [00:00<?, ?it/s]"
      ]
     },
     "metadata": {},
     "output_type": "display_data"
    },
    {
     "data": {
      "application/vnd.jupyter.widget-view+json": {
       "model_id": "4b1d753bf02340de9614e916fcaeb853",
       "version_major": 2,
       "version_minor": 0
      },
      "text/plain": [
       "Processing 2007 events:   0%|          | 0/45 [00:00<?, ?it/s]"
      ]
     },
     "metadata": {},
     "output_type": "display_data"
    },
    {
     "data": {
      "application/vnd.jupyter.widget-view+json": {
       "model_id": "a9f574c1224146b3be35adb10b596012",
       "version_major": 2,
       "version_minor": 0
      },
      "text/plain": [
       "Processing 2008 events:   0%|          | 0/54 [00:00<?, ?it/s]"
      ]
     },
     "metadata": {},
     "output_type": "display_data"
    },
    {
     "data": {
      "application/vnd.jupyter.widget-view+json": {
       "model_id": "dcefe92425504e97b3ce4df0ac67459d",
       "version_major": 2,
       "version_minor": 0
      },
      "text/plain": [
       "Processing 2009 events:   0%|          | 0/57 [00:00<?, ?it/s]"
      ]
     },
     "metadata": {},
     "output_type": "display_data"
    },
    {
     "data": {
      "application/vnd.jupyter.widget-view+json": {
       "model_id": "20fdb6afcba546e991c44c8f2231b391",
       "version_major": 2,
       "version_minor": 0
      },
      "text/plain": [
       "Processing 2010 events:   0%|          | 0/58 [00:00<?, ?it/s]"
      ]
     },
     "metadata": {},
     "output_type": "display_data"
    },
    {
     "data": {
      "application/vnd.jupyter.widget-view+json": {
       "model_id": "c9cf043859534cdc9768ebcc453953bb",
       "version_major": 2,
       "version_minor": 0
      },
      "text/plain": [
       "Processing 2011 events:   0%|          | 0/68 [00:00<?, ?it/s]"
      ]
     },
     "metadata": {},
     "output_type": "display_data"
    },
    {
     "data": {
      "application/vnd.jupyter.widget-view+json": {
       "model_id": "6e5a80ff959b4b34911f09504470a6d1",
       "version_major": 2,
       "version_minor": 0
      },
      "text/plain": [
       "Processing 2012 events:   0%|          | 0/82 [00:00<?, ?it/s]"
      ]
     },
     "metadata": {},
     "output_type": "display_data"
    },
    {
     "data": {
      "application/vnd.jupyter.widget-view+json": {
       "model_id": "921e83715f1b49e3a7aa75fd0f9b8dbc",
       "version_major": 2,
       "version_minor": 0
      },
      "text/plain": [
       "Processing 2013 events:   0%|          | 0/129 [00:00<?, ?it/s]"
      ]
     },
     "metadata": {},
     "output_type": "display_data"
    },
    {
     "data": {
      "application/vnd.jupyter.widget-view+json": {
       "model_id": "6b331897713446ae802398fc180c1b8e",
       "version_major": 2,
       "version_minor": 0
      },
      "text/plain": [
       "Processing 2014 events:   0%|          | 0/166 [00:00<?, ?it/s]"
      ]
     },
     "metadata": {},
     "output_type": "display_data"
    },
    {
     "data": {
      "application/vnd.jupyter.widget-view+json": {
       "model_id": "9050043e52794dbb926b06dc94e5740d",
       "version_major": 2,
       "version_minor": 0
      },
      "text/plain": [
       "Processing 2015 events:   0%|          | 0/181 [00:00<?, ?it/s]"
      ]
     },
     "metadata": {},
     "output_type": "display_data"
    },
    {
     "data": {
      "application/vnd.jupyter.widget-view+json": {
       "model_id": "3ffe399e0b7c444d82eddc32f200eeb7",
       "version_major": 2,
       "version_minor": 0
      },
      "text/plain": [
       "Processing 2016 events:   0%|          | 0/203 [00:00<?, ?it/s]"
      ]
     },
     "metadata": {},
     "output_type": "display_data"
    },
    {
     "data": {
      "application/vnd.jupyter.widget-view+json": {
       "model_id": "8cc0153bc1b44a92a88f86e460326bea",
       "version_major": 2,
       "version_minor": 0
      },
      "text/plain": [
       "Processing 2017 events:   0%|          | 0/256 [00:00<?, ?it/s]"
      ]
     },
     "metadata": {},
     "output_type": "display_data"
    },
    {
     "data": {
      "application/vnd.jupyter.widget-view+json": {
       "model_id": "76cc825df7814e63be1a7a0cc465727e",
       "version_major": 2,
       "version_minor": 0
      },
      "text/plain": [
       "Processing 2018 events:   0%|          | 0/278 [00:00<?, ?it/s]"
      ]
     },
     "metadata": {},
     "output_type": "display_data"
    },
    {
     "data": {
      "application/vnd.jupyter.widget-view+json": {
       "model_id": "e187caeadc624aa7991e01c24f7638b7",
       "version_major": 2,
       "version_minor": 0
      },
      "text/plain": [
       "Processing 2019 events:   0%|          | 0/303 [00:00<?, ?it/s]"
      ]
     },
     "metadata": {},
     "output_type": "display_data"
    },
    {
     "data": {
      "application/vnd.jupyter.widget-view+json": {
       "model_id": "adeaf09bb54c4d7b8d7499004cf9d067",
       "version_major": 2,
       "version_minor": 0
      },
      "text/plain": [
       "Processing 2020 events:   0%|          | 0/196 [00:00<?, ?it/s]"
      ]
     },
     "metadata": {},
     "output_type": "display_data"
    },
    {
     "data": {
      "application/vnd.jupyter.widget-view+json": {
       "model_id": "aa47a3c55b824d4d97369cb477a49384",
       "version_major": 2,
       "version_minor": 0
      },
      "text/plain": [
       "Processing 2021 events:   0%|          | 0/259 [00:00<?, ?it/s]"
      ]
     },
     "metadata": {},
     "output_type": "display_data"
    },
    {
     "data": {
      "application/vnd.jupyter.widget-view+json": {
       "model_id": "54b03a93dabd4f82800c7a25450601b1",
       "version_major": 2,
       "version_minor": 0
      },
      "text/plain": [
       "Processing 2022 events:   0%|          | 0/288 [00:00<?, ?it/s]"
      ]
     },
     "metadata": {},
     "output_type": "display_data"
    },
    {
     "data": {
      "application/vnd.jupyter.widget-view+json": {
       "model_id": "7677ec5db9da4bccb67c9b11ef9990c9",
       "version_major": 2,
       "version_minor": 0
      },
      "text/plain": [
       "Processing 2023 events:   0%|          | 0/309 [00:00<?, ?it/s]"
      ]
     },
     "metadata": {},
     "output_type": "display_data"
    },
    {
     "data": {
      "application/vnd.jupyter.widget-view+json": {
       "model_id": "307354376bb34dbda3393869ef1114a6",
       "version_major": 2,
       "version_minor": 0
      },
      "text/plain": [
       "Processing 2024 events:   0%|          | 0/323 [00:00<?, ?it/s]"
      ]
     },
     "metadata": {},
     "output_type": "display_data"
    },
    {
     "data": {
      "application/vnd.jupyter.widget-view+json": {
       "model_id": "8f868ec80c4040cca85de845f53c67de",
       "version_major": 2,
       "version_minor": 0
      },
      "text/plain": [
       "Processing 2025 events:   0%|          | 0/222 [00:00<?, ?it/s]"
      ]
     },
     "metadata": {},
     "output_type": "display_data"
    }
   ],
   "source": [
    "einstein_years: dict[str, list[int]] =  defaultdict(list)\n",
    "cmp_years: dict[str, list[int]] = defaultdict(list)\n",
    "team_seasons: dict[str, set[int]] = defaultdict(set)\n",
    "\n",
    "for year in trange(2001, 2026, desc=\"Fetching years\"):\n",
    "    events: list[Event] = session.get(f\"{ROOT_URL}/events/{year}\").json()\n",
    "    for event in tqdm(events, leave=False, desc=f\"Processing {year} events\"):\n",
    "        if event[\"event_type\"] == 3:\n",
    "            awards: list[Award] = session.get(f\"{ROOT_URL}/event/{event['key']}/awards\").json()\n",
    "            for award in awards:\n",
    "                if award[\"award_type\"] == 1:\n",
    "                    for recipient in award[\"recipient_list\"]:\n",
    "                        team_key = recipient[\"team_key\"]\n",
    "                        einstein_years[team_key].append(year)\n",
    "            teams: list[str] = session.get(f\"{ROOT_URL}/event/{event['key']}/teams/keys\").json()\n",
    "            for team_key in teams:\n",
    "                cmp_years[team_key].append(year)\n",
    "        elif event[\"event_type\"] <= 6 and event[\"year\"] != 2020 and event[\"year\"] != 2021:\n",
    "            teams: list[str] = session.get(f\"{ROOT_URL}/event/{event['key']}/teams/keys\").json()\n",
    "            for team_key in teams:\n",
    "                team_seasons[team_key].add(year)"
   ]
  },
  {
   "cell_type": "code",
   "execution_count": null,
   "id": "6efbc519",
   "metadata": {},
   "outputs": [
    {
     "name": "stdout",
     "output_type": "stream",
     "text": [
      "| # | Team Number | Team Name | First Year | Second Year | Gap |\n",
      "| --- | --- | --- | --- | --- | --- |\n",
      "| 1 | 59 | RamTech | 2001 | 2023 | 22 year gap |\n",
      "| 2 | 190 | Gompei and the HERD | 2007 | 2024 | 17 year gap |\n",
      "| 3 | 125 | NUTRONs | 2001 | 2017 | 16 year gap |\n",
      "| 4 | 294 | Beach Cities Robotics | 2010 | 2024 | 14 year gap |\n",
      "| 5 | 494 | Martians | 2004 | 2018 | 14 year gap |\n",
      "| 6 | 302 | The Dragons | 2003 | 2017 | 14 year gap |\n",
      "| 7 | 868 | TechHOUNDS | 2004 | 2018 | 14 year gap |\n",
      "| 8 | 144 | Operation Orange | 2002 | 2015 | 13 year gap |\n",
      "| 9 | 180 | S.P.A.M. | 2012 | 2025 | 13 year gap |\n",
      "| 10 | 16 | Bomb Squad | 2012 | 2025 | 13 year gap |\n",
      "| 11 | 179 | Children of the Swamp | 2007 | 2019 | 12 year gap |\n",
      "| 12 | 118 | Robonauts | 2002 | 2012 | 10 year gap |\n",
      "| 13 | 180 | S.P.A.M. | 2002 | 2012 | 10 year gap |\n",
      "| 14 | 1218 | SCH Robotics | 2009 | 2019 | 10 year gap |\n",
      "| 15 | 195 | CyberKnights | 2006 | 2016 | 10 year gap |\n",
      "| 16 | 971 | Spartan Robotics | 2009 | 2019 | 10 year gap |\n",
      "| 17 | 1477 | Texas Torque | 2014 | 2024 | 10 year gap |\n",
      "| 18 | 294 | Beach Cities Robotics | 2001 | 2010 | 9 year gap |\n",
      "| 19 | 2590 | Nemesis | 2014 | 2023 | 9 year gap |\n",
      "| 20 | 2481 | Roboteers | 2016 | 2025 | 9 year gap |\n",
      "| 21 | 33 | Killer Bees | 2005 | 2013 | 8 year gap |\n",
      "| 22 | 111 | WildStang | 2011 | 2019 | 8 year gap |\n",
      "| 23 | 118 | Robonauts | 2017 | 2025 | 8 year gap |\n",
      "| 24 | 330 | The Beach Bots | 2007 | 2015 | 8 year gap |\n",
      "| 25 | 3357 | COMETS | 2010 | 2018 | 8 year gap |\n"
     ]
    }
   ],
   "source": [
    "print (\"| # | Team Number | Team Name | First Year | Second Year | Gap |\")\n",
    "print( \"| --- | --- | --- | --- | --- | --- |\")\n",
    "\n",
    "for idx, vals in enumerate(sorted(\n",
    "    (\n",
    "        (team_key, comp_years[0], comp_years[1], comp_years[1] - comp_years[0])\n",
    "        for team_key, comp_years in einstein_years.items()\n",
    "        if len(comp_years) >= 2\n",
    "        for comp_years in pairwise(sorted(comp_years))\n",
    "    ),\n",
    "    key=lambda x: x[3],\n",
    "    reverse=True\n",
    ")[:25], start=1):\n",
    "    team_key, first, second, gap = vals\n",
    "    team = ALL_TEAMS[team_key]\n",
    "    print(\n",
    "        f\"| {idx} | {team['team_number']} | {team['nickname']} | \"\n",
    "        f\"{first} | {second} | {gap} year gap |\"\n",
    "    )"
   ]
  },
  {
   "cell_type": "code",
   "execution_count": null,
   "id": "538aced4",
   "metadata": {},
   "outputs": [
    {
     "name": "stdout",
     "output_type": "stream",
     "text": [
      "| # | Team Number | Team Name | Number of Championship Appearances |\n",
      "| --- | --- | --- | --- |\n",
      "| 1 | 45 | TechnoKats Robotics Team | 20 appearances |\n",
      "| 2 | 399 | Eagle Robotics | 19 appearances |\n",
      "| 3 | 103 | Cybersonics | 19 appearances |\n",
      "| 4 | 176 | Aces High | 18 appearances |\n",
      "| 5 | 11 | MORT | 18 appearances |\n",
      "| 6 | 88 | TJ² | 18 appearances |\n",
      "| 7 | 126 | Gael Force | 17 appearances |\n",
      "| 8 | 191 | X-CATS | 17 appearances |\n",
      "| 9 | 1538 | The Holy Cows | 17 appearances |\n",
      "| 10 | 1629 | Garrett Coalition (GaCo) | 17 appearances |\n",
      "| 11 | 573 | Mech Warriors | 16 appearances |\n",
      "| 12 | 842 | Falcon Robotics | 16 appearances |\n",
      "| 13 | 836 | The RoboBees | 16 appearances |\n",
      "| 14 | 1305 | Ice Cubed | 16 appearances |\n",
      "| 15 | 1816 | \"The Green Machine\" | 16 appearances |\n"
     ]
    }
   ],
   "source": [
    "print (\"| # | Team Number | Team Name | Number of Championship Appearances |\")\n",
    "print( \"| --- | --- | --- | --- |\")\n",
    "\n",
    "for idx, (team_key, years) in enumerate(\n",
    "    sorted(\n",
    "        ((team_key, len(years)) for team_key, years in cmp_years.items() if len(years) > 0 and team_key not in einstein_years),\n",
    "        key=lambda x: x[1],\n",
    "        reverse=True\n",
    "    )[:15], start=1\n",
    "):\n",
    "    team = ALL_TEAMS[team_key]\n",
    "    print(\n",
    "        f\"| {idx} | {team['team_number']} | {team['nickname']} | \"\n",
    "        f\"{years} appearances |\"\n",
    "    )"
   ]
  },
  {
   "cell_type": "code",
   "execution_count": 44,
   "id": "49899b28",
   "metadata": {},
   "outputs": [
    {
     "name": "stdout",
     "output_type": "stream",
     "text": [
      "| # | Team Number | Team Name | Einstein/Worlds |\n",
      "| --- | --- | --- | --- |\n",
      "| 1 | 1678 | [Citrus Circuits](https://thebluealliance.com/team/1678) | 76.92% |\n",
      "| 2 | 3707 | [TechnoDogs](https://thebluealliance.com/team/3707) | 66.67% |\n",
      "| 3 | 4414 | [HighTide](https://thebluealliance.com/team/4414) | 60.00% |\n",
      "| 4 | 64 | [Gila Monsters](https://thebluealliance.com/team/64) | 50.00% |\n",
      "| 5 | 5026 | [Iron Panthers](https://thebluealliance.com/team/5026) | 50.00% |\n",
      "| 6 | 217 | [ThunderChickens](https://thebluealliance.com/team/217) | 47.37% |\n",
      "| 7 | 2056 | [OP Robotics](https://thebluealliance.com/team/2056) | 47.06% |\n",
      "| 8 | 254 | [The Cheesy Poofs](https://thebluealliance.com/team/254) | 45.45% |\n",
      "| 9 | 3476 | [Code Orange](https://thebluealliance.com/team/3476) | 45.45% |\n",
      "| 10 | 144 | [Operation Orange](https://thebluealliance.com/team/144) | 42.86% |\n",
      "| 11 | 6328 | [Mechanical Advantage](https://thebluealliance.com/team/6328) | 42.86% |\n",
      "| 12 | 973 | [Greybots](https://thebluealliance.com/team/973) | 40.00% |\n",
      "| 13 | 5050 | [Cow Town Robotics](https://thebluealliance.com/team/5050) | 40.00% |\n",
      "| 14 | 6672 | [Fusion Corps](https://thebluealliance.com/team/6672) | 40.00% |\n",
      "| 15 | 177 | [Bobcat Robotics](https://thebluealliance.com/team/177) | 38.89% |\n"
     ]
    }
   ],
   "source": [
    "print(\"| # | Team Number | Team Name | Einstein/Worlds |\")\n",
    "print(\"| --- | --- | --- | --- |\")\n",
    "\n",
    "for idx, (team_key, ratio) in enumerate(\n",
    "    sorted(\n",
    "        ((team_key, len(einstein_years[team_key]) / len(cmp_years[team_key]))\n",
    "         for team_key in cmp_years if team_key in einstein_years and len(cmp_years[team_key]) > 2),\n",
    "        key=lambda x: x[1],\n",
    "        reverse=True\n",
    "    )[:15], start=1\n",
    "):\n",
    "    team = ALL_TEAMS[team_key]\n",
    "    print(\n",
    "        f\"| {idx} | {team['team_number']} | [{team['nickname']}](https://thebluealliance.com/team/{team[\"team_number\"]}) | \"\n",
    "        f\"{ratio*100:.2f}% |\"\n",
    "    )"
   ]
  },
  {
   "cell_type": "code",
   "execution_count": 48,
   "id": "03d6a23c",
   "metadata": {},
   "outputs": [
    {
     "name": "stdout",
     "output_type": "stream",
     "text": [
      "| # | Team Number | Team Name | Einstein/Total |\n",
      "| --- | --- | --- | --- |\n",
      "| 1 | 4414 | [HighTide](https://thebluealliance.com/team/4414) | 60.00% |\n",
      "| 2 | 1678 | [Citrus Circuits](https://thebluealliance.com/team/1678) | 52.63% |\n",
      "| 3 | 2056 | [OP Robotics](https://thebluealliance.com/team/2056) | 47.06% |\n",
      "| 4 | 254 | [The Cheesy Poofs](https://thebluealliance.com/team/254) | 43.48% |\n",
      "| 5 | 6328 | [Mechanical Advantage](https://thebluealliance.com/team/6328) | 42.86% |\n",
      "| 6 | 64 | [Gila Monsters](https://thebluealliance.com/team/64) | 40.00% |\n",
      "| 7 | 217 | [ThunderChickens](https://thebluealliance.com/team/217) | 39.13% |\n",
      "| 8 | 3476 | [Code Orange](https://thebluealliance.com/team/3476) | 38.46% |\n",
      "| 9 | 6986 | [PPT Bots](https://thebluealliance.com/team/6986) | 33.33% |\n",
      "| 10 | 9072 | [TigerBots](https://thebluealliance.com/team/9072) | 33.33% |\n",
      "| 11 | 9312 | [NERD Spark](https://thebluealliance.com/team/9312) | 33.33% |\n",
      "| 12 | 987 | [HIGHROLLERS](https://thebluealliance.com/team/987) | 31.82% |\n",
      "| 13 | 177 | [Bobcat Robotics](https://thebluealliance.com/team/177) | 30.43% |\n",
      "| 14 | 67 | [The HOT Team](https://thebluealliance.com/team/67) | 30.43% |\n",
      "| 15 | 148 | [Robowranglers](https://thebluealliance.com/team/148) | 30.43% |\n"
     ]
    }
   ],
   "source": [
    "print(\"| # | Team Number | Team Name | Einstein/Total |\")\n",
    "print(\"| --- | --- | --- | --- |\")\n",
    "\n",
    "for idx, (team_key, ratio) in enumerate(\n",
    "    sorted(\n",
    "        ((team_key, len(einstein_years[team_key]) / len(team_seasons[team_key]))\n",
    "         for team_key in cmp_years if team_key in einstein_years and len(team_seasons[team_key]) > 2),\n",
    "        key=lambda x: x[1],\n",
    "        reverse=True\n",
    "    )[:15], start=1\n",
    "):\n",
    "    team = ALL_TEAMS[team_key]\n",
    "    print(\n",
    "        f\"| {idx} | {team['team_number']} | [{team['nickname']}](https://thebluealliance.com/team/{team[\"team_number\"]}) | \"\n",
    "        f\"{ratio*100:.2f}% |\"\n",
    "    )"
   ]
  },
  {
   "cell_type": "code",
   "execution_count": null,
   "id": "f0d20877",
   "metadata": {},
   "outputs": [
    {
     "name": "stdout",
     "output_type": "stream",
     "text": [
      " 349 Team 349                       2001 (last competed)\n",
      "  75 RoboRaiders                    2001 (last competed)\n",
      "  85 B.O.B. (Built on Brains)       2001 (last competed)\n",
      " 115 MVRT                           2001 (last competed)\n",
      "  53 Area 53                        2001 (last competed)\n",
      " 122 NASA Knights                   2001 (last competed)\n",
      " 279 Tech Fusion                    2001 (last competed)\n",
      " 365 Miracle Workerz                2001 (last competed)\n",
      " 308 Monsters                       2002 (last competed)\n",
      " 311 Red Jammers                    2002 (last competed)\n",
      "  66 Grizzly Robotics               2002 (last competed)\n",
      "  65 The Huskie Brigade             2003 (last competed)\n",
      " 343 Metal-In-Motion                2003 (last competed)\n",
      " 236 Techno-Ticks                   2003 (last competed)\n",
      " 341 Miss Daisy                     2003 (last competed)\n",
      " 292 PantherTech                    2003 (last competed)\n",
      " 378 The Circuit Stompers           2003 (last competed)\n",
      " 340 G.R.R. (Greater Rochester Robotics) 2004 (last competed)\n",
      " 435 Robodogs                       2004 (last competed)\n",
      "1038 Lakota Robotics                2004 (last competed)\n"
     ]
    }
   ],
   "source": [
    "for team_key, last in sorted(\n",
    "    (\n",
    "        (team_key, comp_years[-1])\n",
    "        for team_key, comp_years in einstein_years.items()\n",
    "        if len(comp_years) >= 1\n",
    "    ),\n",
    "    key=lambda x: x[1],\n",
    ")[:20]:\n",
    "    team = ALL_TEAMS[team_key]\n",
    "    print(f\"{team['team_number']:>4} {team['nickname']:<30} {last:>4} (last competed)\")"
   ]
  }
 ],
 "metadata": {
  "kernelspec": {
   "display_name": "Python 3",
   "language": "python",
   "name": "python3"
  },
  "language_info": {
   "codemirror_mode": {
    "name": "ipython",
    "version": 3
   },
   "file_extension": ".py",
   "mimetype": "text/x-python",
   "name": "python",
   "nbconvert_exporter": "python",
   "pygments_lexer": "ipython3",
   "version": "3.13.3"
  }
 },
 "nbformat": 4,
 "nbformat_minor": 5
}
