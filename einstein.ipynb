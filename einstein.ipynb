{
 "cells": [
  {
   "cell_type": "code",
   "execution_count": 50,
   "id": "11272612",
   "metadata": {},
   "outputs": [],
   "source": [
    "from tba_session import session, ROOT_URL, TEAM_PAGES\n",
    "from tba_types import Award, Event, Team\n",
    "from collections import defaultdict\n",
    "from tqdm.notebook import trange, tqdm\n",
    "from itertools import pairwise\n",
    "from typing import Generator"
   ]
  },
  {
   "cell_type": "code",
   "execution_count": 39,
   "id": "c6a555bd",
   "metadata": {},
   "outputs": [
    {
     "data": {
      "application/vnd.jupyter.widget-view+json": {
       "model_id": "abb13aaca6324b0cafb1d027cde56c41",
       "version_major": 2,
       "version_minor": 0
      },
      "text/plain": [
       "Getting Teams:   0%|          | 0/22 [00:00<?, ?it/s]"
      ]
     },
     "metadata": {},
     "output_type": "display_data"
    }
   ],
   "source": [
    "ALL_TEAMS: dict[str, Team] = {}\n",
    "\n",
    "for page in trange(TEAM_PAGES, desc=\"Getting Teams\", total=TEAM_PAGES, leave=False):\n",
    "    team: Team\n",
    "    for team in session.get(ROOT_URL + f\"/teams/{page}\").json():\n",
    "        ALL_TEAMS[team[\"key\"]] = team"
   ]
  },
  {
   "cell_type": "code",
   "execution_count": 62,
   "id": "270f3e99",
   "metadata": {},
   "outputs": [
    {
     "data": {
      "application/vnd.jupyter.widget-view+json": {
       "model_id": "6c815cd14ded4ca1bfc77d37313b35be",
       "version_major": 2,
       "version_minor": 0
      },
      "text/plain": [
       "Fetching years:   0%|          | 0/25 [00:00<?, ?it/s]"
      ]
     },
     "metadata": {},
     "output_type": "display_data"
    },
    {
     "data": {
      "application/vnd.jupyter.widget-view+json": {
       "model_id": "a7b8950e204147c6b66adabc8c95d5ef",
       "version_major": 2,
       "version_minor": 0
      },
      "text/plain": [
       "Processing 2001 events:   0%|          | 0/18 [00:00<?, ?it/s]"
      ]
     },
     "metadata": {},
     "output_type": "display_data"
    },
    {
     "data": {
      "application/vnd.jupyter.widget-view+json": {
       "model_id": "ecefdf8e03b148d4a3374a2b24bb3d4a",
       "version_major": 2,
       "version_minor": 0
      },
      "text/plain": [
       "Processing 2002 events:   0%|          | 0/22 [00:00<?, ?it/s]"
      ]
     },
     "metadata": {},
     "output_type": "display_data"
    },
    {
     "data": {
      "application/vnd.jupyter.widget-view+json": {
       "model_id": "2411d8a482924621ba4d26f159173b42",
       "version_major": 2,
       "version_minor": 0
      },
      "text/plain": [
       "Processing 2003 events:   0%|          | 0/28 [00:00<?, ?it/s]"
      ]
     },
     "metadata": {},
     "output_type": "display_data"
    },
    {
     "data": {
      "application/vnd.jupyter.widget-view+json": {
       "model_id": "d1d816941aa74884a6a1bccb3e39e121",
       "version_major": 2,
       "version_minor": 0
      },
      "text/plain": [
       "Processing 2004 events:   0%|          | 0/32 [00:00<?, ?it/s]"
      ]
     },
     "metadata": {},
     "output_type": "display_data"
    },
    {
     "data": {
      "application/vnd.jupyter.widget-view+json": {
       "model_id": "80b525b7d26a42a8916bd26a71f1cfa3",
       "version_major": 2,
       "version_minor": 0
      },
      "text/plain": [
       "Processing 2005 events:   0%|          | 0/37 [00:00<?, ?it/s]"
      ]
     },
     "metadata": {},
     "output_type": "display_data"
    },
    {
     "data": {
      "application/vnd.jupyter.widget-view+json": {
       "model_id": "feb1e836ebcc405592f9fd7b0906b292",
       "version_major": 2,
       "version_minor": 0
      },
      "text/plain": [
       "Processing 2006 events:   0%|          | 0/40 [00:00<?, ?it/s]"
      ]
     },
     "metadata": {},
     "output_type": "display_data"
    },
    {
     "data": {
      "application/vnd.jupyter.widget-view+json": {
       "model_id": "4039c0a689154a5b9d3b7f2bec3658bd",
       "version_major": 2,
       "version_minor": 0
      },
      "text/plain": [
       "Processing 2007 events:   0%|          | 0/45 [00:00<?, ?it/s]"
      ]
     },
     "metadata": {},
     "output_type": "display_data"
    },
    {
     "data": {
      "application/vnd.jupyter.widget-view+json": {
       "model_id": "ebb9641e7492477484e117cc433256db",
       "version_major": 2,
       "version_minor": 0
      },
      "text/plain": [
       "Processing 2008 events:   0%|          | 0/54 [00:00<?, ?it/s]"
      ]
     },
     "metadata": {},
     "output_type": "display_data"
    },
    {
     "data": {
      "application/vnd.jupyter.widget-view+json": {
       "model_id": "45447da4186645fe816c4b1d6269fc80",
       "version_major": 2,
       "version_minor": 0
      },
      "text/plain": [
       "Processing 2009 events:   0%|          | 0/57 [00:00<?, ?it/s]"
      ]
     },
     "metadata": {},
     "output_type": "display_data"
    },
    {
     "data": {
      "application/vnd.jupyter.widget-view+json": {
       "model_id": "22d72302bf074c249ea5d67de5b5493b",
       "version_major": 2,
       "version_minor": 0
      },
      "text/plain": [
       "Processing 2010 events:   0%|          | 0/58 [00:00<?, ?it/s]"
      ]
     },
     "metadata": {},
     "output_type": "display_data"
    },
    {
     "data": {
      "application/vnd.jupyter.widget-view+json": {
       "model_id": "5f1750cf604e4e84b0f8aa6f3731c3e3",
       "version_major": 2,
       "version_minor": 0
      },
      "text/plain": [
       "Processing 2011 events:   0%|          | 0/68 [00:00<?, ?it/s]"
      ]
     },
     "metadata": {},
     "output_type": "display_data"
    },
    {
     "data": {
      "application/vnd.jupyter.widget-view+json": {
       "model_id": "83e388d8bd4d469e8fbcd6edd4c97a13",
       "version_major": 2,
       "version_minor": 0
      },
      "text/plain": [
       "Processing 2012 events:   0%|          | 0/82 [00:00<?, ?it/s]"
      ]
     },
     "metadata": {},
     "output_type": "display_data"
    },
    {
     "data": {
      "application/vnd.jupyter.widget-view+json": {
       "model_id": "954f8b93ca774f8dab9e2c8d70589923",
       "version_major": 2,
       "version_minor": 0
      },
      "text/plain": [
       "Processing 2013 events:   0%|          | 0/129 [00:00<?, ?it/s]"
      ]
     },
     "metadata": {},
     "output_type": "display_data"
    },
    {
     "data": {
      "application/vnd.jupyter.widget-view+json": {
       "model_id": "3bccdc0118aa4f62a10ab4c24d032818",
       "version_major": 2,
       "version_minor": 0
      },
      "text/plain": [
       "Processing 2014 events:   0%|          | 0/166 [00:00<?, ?it/s]"
      ]
     },
     "metadata": {},
     "output_type": "display_data"
    },
    {
     "data": {
      "application/vnd.jupyter.widget-view+json": {
       "model_id": "8ac32eb36b6b40b6bf0e9eea80a368b6",
       "version_major": 2,
       "version_minor": 0
      },
      "text/plain": [
       "Processing 2015 events:   0%|          | 0/181 [00:00<?, ?it/s]"
      ]
     },
     "metadata": {},
     "output_type": "display_data"
    },
    {
     "data": {
      "application/vnd.jupyter.widget-view+json": {
       "model_id": "325335ac1fbc4c1eafb0d3ff1db57d93",
       "version_major": 2,
       "version_minor": 0
      },
      "text/plain": [
       "Processing 2016 events:   0%|          | 0/203 [00:00<?, ?it/s]"
      ]
     },
     "metadata": {},
     "output_type": "display_data"
    },
    {
     "data": {
      "application/vnd.jupyter.widget-view+json": {
       "model_id": "ef54c1c9c44340e88ae6c8b81f530f7d",
       "version_major": 2,
       "version_minor": 0
      },
      "text/plain": [
       "Processing 2017 events:   0%|          | 0/256 [00:00<?, ?it/s]"
      ]
     },
     "metadata": {},
     "output_type": "display_data"
    },
    {
     "data": {
      "application/vnd.jupyter.widget-view+json": {
       "model_id": "7e912e7e1ac54d48841ef2879163e549",
       "version_major": 2,
       "version_minor": 0
      },
      "text/plain": [
       "Processing 2018 events:   0%|          | 0/278 [00:00<?, ?it/s]"
      ]
     },
     "metadata": {},
     "output_type": "display_data"
    },
    {
     "data": {
      "application/vnd.jupyter.widget-view+json": {
       "model_id": "46ec7390b2a145908c28bce8b293d4dc",
       "version_major": 2,
       "version_minor": 0
      },
      "text/plain": [
       "Processing 2019 events:   0%|          | 0/303 [00:00<?, ?it/s]"
      ]
     },
     "metadata": {},
     "output_type": "display_data"
    },
    {
     "data": {
      "application/vnd.jupyter.widget-view+json": {
       "model_id": "b686b92e843848d6baf5611d332fd608",
       "version_major": 2,
       "version_minor": 0
      },
      "text/plain": [
       "Processing 2020 events:   0%|          | 0/196 [00:00<?, ?it/s]"
      ]
     },
     "metadata": {},
     "output_type": "display_data"
    },
    {
     "data": {
      "application/vnd.jupyter.widget-view+json": {
       "model_id": "33ca6e8bf6084d8c9aafc0799a947114",
       "version_major": 2,
       "version_minor": 0
      },
      "text/plain": [
       "Processing 2021 events:   0%|          | 0/259 [00:00<?, ?it/s]"
      ]
     },
     "metadata": {},
     "output_type": "display_data"
    },
    {
     "data": {
      "application/vnd.jupyter.widget-view+json": {
       "model_id": "2b57fb207a1b49729d12732ca532fac9",
       "version_major": 2,
       "version_minor": 0
      },
      "text/plain": [
       "Processing 2022 events:   0%|          | 0/288 [00:00<?, ?it/s]"
      ]
     },
     "metadata": {},
     "output_type": "display_data"
    },
    {
     "data": {
      "application/vnd.jupyter.widget-view+json": {
       "model_id": "6a909e4bae0d46d59c0fd90843146378",
       "version_major": 2,
       "version_minor": 0
      },
      "text/plain": [
       "Processing 2023 events:   0%|          | 0/309 [00:00<?, ?it/s]"
      ]
     },
     "metadata": {},
     "output_type": "display_data"
    },
    {
     "data": {
      "application/vnd.jupyter.widget-view+json": {
       "model_id": "5619104898f24f59840c4649eae036cc",
       "version_major": 2,
       "version_minor": 0
      },
      "text/plain": [
       "Processing 2024 events:   0%|          | 0/323 [00:00<?, ?it/s]"
      ]
     },
     "metadata": {},
     "output_type": "display_data"
    },
    {
     "data": {
      "application/vnd.jupyter.widget-view+json": {
       "model_id": "1a7e3bb3100e4b0bbd94351148959227",
       "version_major": 2,
       "version_minor": 0
      },
      "text/plain": [
       "Processing 2025 events:   0%|          | 0/222 [00:00<?, ?it/s]"
      ]
     },
     "metadata": {},
     "output_type": "display_data"
    }
   ],
   "source": [
    "einstein_years: dict[str, list[int]] =  defaultdict(list)\n",
    "cmp_years: dict[str, list[int]] = defaultdict(list)\n",
    "win_years: dict[str, list[int]] = defaultdict(list)\n",
    "team_seasons: dict[str, set[int]] = defaultdict(set)\n",
    "\n",
    "for year in trange(2001, 2026, desc=\"Fetching years\"):\n",
    "    events: list[Event] = session.get(f\"{ROOT_URL}/events/{year}\").json()\n",
    "    for event in tqdm(events, leave=False, desc=f\"Processing {year} events\"):\n",
    "        if event[\"event_type\"] == 3:\n",
    "            awards: list[Award] = session.get(f\"{ROOT_URL}/event/{event['key']}/awards\").json()\n",
    "            for award in awards:\n",
    "                if award[\"award_type\"] == 1:\n",
    "                    for recipient in award[\"recipient_list\"]:\n",
    "                        team_key = recipient[\"team_key\"]\n",
    "                        einstein_years[team_key].append(year)\n",
    "            teams: list[str] = session.get(f\"{ROOT_URL}/event/{event['key']}/teams/keys\").json()\n",
    "            for team_key in teams:\n",
    "                cmp_years[team_key].append(year)\n",
    "        elif event[\"event_type\"] == 4:\n",
    "            awards: list[Award] = session.get(f\"{ROOT_URL}/event/{event['key']}/awards\").json()\n",
    "            for award in awards:\n",
    "                if award[\"award_type\"] == 1:\n",
    "                    for recipient in award[\"recipient_list\"]:\n",
    "                        team_key = recipient[\"team_key\"]\n",
    "                        win_years[team_key].append(year)\n",
    "        elif event[\"event_type\"] <= 6 and event[\"year\"] != 2020 and event[\"year\"] != 2021:\n",
    "            teams: list[str] = session.get(f\"{ROOT_URL}/event/{event['key']}/teams/keys\").json()\n",
    "            for team_key in teams:\n",
    "                team_seasons[team_key].add(year)"
   ]
  },
  {
   "cell_type": "code",
   "execution_count": null,
   "id": "6efbc519",
   "metadata": {},
   "outputs": [
    {
     "name": "stdout",
     "output_type": "stream",
     "text": [
      "| # | Team Number | Team Name | First Year | Second Year | Gap |\n",
      "| --- | --- | --- | --- | --- | --- |\n",
      "| 1 | 59 | RamTech | 2001 | 2023 | 22 year gap |\n",
      "| 2 | 190 | Gompei and the HERD | 2007 | 2024 | 17 year gap |\n",
      "| 3 | 125 | NUTRONs | 2001 | 2017 | 16 year gap |\n",
      "| 4 | 294 | Beach Cities Robotics | 2010 | 2024 | 14 year gap |\n",
      "| 5 | 494 | Martians | 2004 | 2018 | 14 year gap |\n",
      "| 6 | 302 | The Dragons | 2003 | 2017 | 14 year gap |\n",
      "| 7 | 868 | TechHOUNDS | 2004 | 2018 | 14 year gap |\n",
      "| 8 | 144 | Operation Orange | 2002 | 2015 | 13 year gap |\n",
      "| 9 | 180 | S.P.A.M. | 2012 | 2025 | 13 year gap |\n",
      "| 10 | 16 | Bomb Squad | 2012 | 2025 | 13 year gap |\n",
      "| 11 | 179 | Children of the Swamp | 2007 | 2019 | 12 year gap |\n",
      "| 12 | 118 | Robonauts | 2002 | 2012 | 10 year gap |\n",
      "| 13 | 180 | S.P.A.M. | 2002 | 2012 | 10 year gap |\n",
      "| 14 | 1218 | SCH Robotics | 2009 | 2019 | 10 year gap |\n",
      "| 15 | 195 | CyberKnights | 2006 | 2016 | 10 year gap |\n",
      "| 16 | 971 | Spartan Robotics | 2009 | 2019 | 10 year gap |\n",
      "| 17 | 1477 | Texas Torque | 2014 | 2024 | 10 year gap |\n",
      "| 18 | 294 | Beach Cities Robotics | 2001 | 2010 | 9 year gap |\n",
      "| 19 | 2590 | Nemesis | 2014 | 2023 | 9 year gap |\n",
      "| 20 | 2481 | Roboteers | 2016 | 2025 | 9 year gap |\n",
      "| 21 | 33 | Killer Bees | 2005 | 2013 | 8 year gap |\n",
      "| 22 | 111 | WildStang | 2011 | 2019 | 8 year gap |\n",
      "| 23 | 118 | Robonauts | 2017 | 2025 | 8 year gap |\n",
      "| 24 | 330 | The Beach Bots | 2007 | 2015 | 8 year gap |\n",
      "| 25 | 3357 | COMETS | 2010 | 2018 | 8 year gap |\n"
     ]
    }
   ],
   "source": [
    "print (\"| # | Team Number | Team Name | First Year | Second Year | Gap |\")\n",
    "print( \"| --- | --- | --- | --- | --- | --- |\")\n",
    "\n",
    "for idx, vals in enumerate(sorted(\n",
    "    (\n",
    "        (team_key, comp_years[0], comp_years[1], comp_years[1] - comp_years[0])\n",
    "        for team_key, comp_years in einstein_years.items()\n",
    "        if len(comp_years) >= 2\n",
    "        for comp_years in pairwise(sorted(comp_years))\n",
    "    ),\n",
    "    key=lambda x: x[3],\n",
    "    reverse=True\n",
    ")[:25], start=1):\n",
    "    team_key, first, second, gap = vals\n",
    "    team = ALL_TEAMS[team_key]\n",
    "    print(\n",
    "        f\"| {idx} | {team['team_number']} | {team['nickname']} | \"\n",
    "        f\"{first} | {second} | {gap} year gap |\"\n",
    "    )"
   ]
  },
  {
   "cell_type": "code",
   "execution_count": null,
   "id": "538aced4",
   "metadata": {},
   "outputs": [
    {
     "name": "stdout",
     "output_type": "stream",
     "text": [
      "| # | Team Number | Team Name | Number of Championship Appearances |\n",
      "| --- | --- | --- | --- |\n",
      "| 1 | 45 | TechnoKats Robotics Team | 20 appearances |\n",
      "| 2 | 399 | Eagle Robotics | 19 appearances |\n",
      "| 3 | 103 | Cybersonics | 19 appearances |\n",
      "| 4 | 176 | Aces High | 18 appearances |\n",
      "| 5 | 11 | MORT | 18 appearances |\n",
      "| 6 | 88 | TJ² | 18 appearances |\n",
      "| 7 | 126 | Gael Force | 17 appearances |\n",
      "| 8 | 191 | X-CATS | 17 appearances |\n",
      "| 9 | 1538 | The Holy Cows | 17 appearances |\n",
      "| 10 | 1629 | Garrett Coalition (GaCo) | 17 appearances |\n",
      "| 11 | 573 | Mech Warriors | 16 appearances |\n",
      "| 12 | 842 | Falcon Robotics | 16 appearances |\n",
      "| 13 | 836 | The RoboBees | 16 appearances |\n",
      "| 14 | 1305 | Ice Cubed | 16 appearances |\n",
      "| 15 | 1816 | \"The Green Machine\" | 16 appearances |\n"
     ]
    }
   ],
   "source": [
    "print (\"| # | Team Number | Team Name | Number of Championship Appearances |\")\n",
    "print( \"| --- | --- | --- | --- |\")\n",
    "\n",
    "for idx, (team_key, years) in enumerate(\n",
    "    sorted(\n",
    "        ((team_key, len(years)) for team_key, years in cmp_years.items() if len(years) > 0 and team_key not in einstein_years),\n",
    "        key=lambda x: x[1],\n",
    "        reverse=True\n",
    "    )[:15], start=1\n",
    "):\n",
    "    team = ALL_TEAMS[team_key]\n",
    "    print(\n",
    "        f\"| {idx} | {team['team_number']} | {team['nickname']} | \"\n",
    "        f\"{years} appearances |\"\n",
    "    )"
   ]
  },
  {
   "cell_type": "code",
   "execution_count": 44,
   "id": "49899b28",
   "metadata": {},
   "outputs": [
    {
     "name": "stdout",
     "output_type": "stream",
     "text": [
      "| # | Team Number | Team Name | Einstein/Worlds |\n",
      "| --- | --- | --- | --- |\n",
      "| 1 | 1678 | [Citrus Circuits](https://thebluealliance.com/team/1678) | 76.92% |\n",
      "| 2 | 3707 | [TechnoDogs](https://thebluealliance.com/team/3707) | 66.67% |\n",
      "| 3 | 4414 | [HighTide](https://thebluealliance.com/team/4414) | 60.00% |\n",
      "| 4 | 64 | [Gila Monsters](https://thebluealliance.com/team/64) | 50.00% |\n",
      "| 5 | 5026 | [Iron Panthers](https://thebluealliance.com/team/5026) | 50.00% |\n",
      "| 6 | 217 | [ThunderChickens](https://thebluealliance.com/team/217) | 47.37% |\n",
      "| 7 | 2056 | [OP Robotics](https://thebluealliance.com/team/2056) | 47.06% |\n",
      "| 8 | 254 | [The Cheesy Poofs](https://thebluealliance.com/team/254) | 45.45% |\n",
      "| 9 | 3476 | [Code Orange](https://thebluealliance.com/team/3476) | 45.45% |\n",
      "| 10 | 144 | [Operation Orange](https://thebluealliance.com/team/144) | 42.86% |\n",
      "| 11 | 6328 | [Mechanical Advantage](https://thebluealliance.com/team/6328) | 42.86% |\n",
      "| 12 | 973 | [Greybots](https://thebluealliance.com/team/973) | 40.00% |\n",
      "| 13 | 5050 | [Cow Town Robotics](https://thebluealliance.com/team/5050) | 40.00% |\n",
      "| 14 | 6672 | [Fusion Corps](https://thebluealliance.com/team/6672) | 40.00% |\n",
      "| 15 | 177 | [Bobcat Robotics](https://thebluealliance.com/team/177) | 38.89% |\n"
     ]
    }
   ],
   "source": [
    "print(\"| # | Team Number | Team Name | Einstein/Worlds |\")\n",
    "print(\"| --- | --- | --- | --- |\")\n",
    "\n",
    "for idx, (team_key, ratio) in enumerate(\n",
    "    sorted(\n",
    "        ((team_key, len(einstein_years[team_key]) / len(cmp_years[team_key]))\n",
    "         for team_key in cmp_years if team_key in einstein_years and len(cmp_years[team_key]) > 2),\n",
    "        key=lambda x: x[1],\n",
    "        reverse=True\n",
    "    )[:15], start=1\n",
    "):\n",
    "    team = ALL_TEAMS[team_key]\n",
    "    print(\n",
    "        f\"| {idx} | {team['team_number']} | [{team['nickname']}](https://thebluealliance.com/team/{team[\"team_number\"]}) | \"\n",
    "        f\"{ratio*100:.2f}% |\"\n",
    "    )"
   ]
  },
  {
   "cell_type": "code",
   "execution_count": 63,
   "id": "03d6a23c",
   "metadata": {},
   "outputs": [
    {
     "name": "stdout",
     "output_type": "stream",
     "text": [
      "| # | Team Number | Team Name | Einstein/Total |\n",
      "| --- | --- | --- | --- |\n",
      "| 1 | 4414 | [HighTide](https://thebluealliance.com/team/4414) | 60.00% |\n",
      "| 2 | 1678 | [Citrus Circuits](https://thebluealliance.com/team/1678) | 52.63% |\n",
      "| 3 | 2056 | [OP Robotics](https://thebluealliance.com/team/2056) | 47.06% |\n",
      "| 4 | 254 | [The Cheesy Poofs](https://thebluealliance.com/team/254) | 43.48% |\n",
      "| 5 | 6328 | [Mechanical Advantage](https://thebluealliance.com/team/6328) | 42.86% |\n",
      "| 6 | 64 | [Gila Monsters](https://thebluealliance.com/team/64) | 40.00% |\n",
      "| 7 | 217 | [ThunderChickens](https://thebluealliance.com/team/217) | 39.13% |\n",
      "| 8 | 3476 | [Code Orange](https://thebluealliance.com/team/3476) | 38.46% |\n",
      "| 9 | 6986 | [PPT Bots](https://thebluealliance.com/team/6986) | 33.33% |\n",
      "| 10 | 9072 | [TigerBots](https://thebluealliance.com/team/9072) | 33.33% |\n",
      "| 11 | 9312 | [NERD Spark](https://thebluealliance.com/team/9312) | 33.33% |\n",
      "| 12 | 987 | [HIGHROLLERS](https://thebluealliance.com/team/987) | 31.82% |\n",
      "| 13 | 177 | [Bobcat Robotics](https://thebluealliance.com/team/177) | 30.43% |\n",
      "| 14 | 67 | [The HOT Team](https://thebluealliance.com/team/67) | 30.43% |\n",
      "| 15 | 148 | [Robowranglers](https://thebluealliance.com/team/148) | 30.43% |\n"
     ]
    }
   ],
   "source": [
    "print(\"| # | Team Number | Team Name | Einstein/Total |\")\n",
    "print(\"| --- | --- | --- | --- |\")\n",
    "\n",
    "for idx, (team_key, ratio) in enumerate(\n",
    "    sorted(\n",
    "        ((team_key, len(einstein_years[team_key]) / len(team_seasons[team_key]))\n",
    "         for team_key in cmp_years if team_key in einstein_years and len(team_seasons[team_key]) > 2),\n",
    "        key=lambda x: x[1],\n",
    "        reverse=True\n",
    "    )[:15], start=1\n",
    "):\n",
    "    team = ALL_TEAMS[team_key]\n",
    "    print(\n",
    "        f\"| {idx} | {team['team_number']} | [{team['nickname']}](https://thebluealliance.com/team/{team[\"team_number\"]}) | \"\n",
    "        f\"{ratio*100:.2f}% |\"\n",
    "    )"
   ]
  },
  {
   "cell_type": "code",
   "execution_count": 65,
   "id": "796528aa",
   "metadata": {},
   "outputs": [
    {
     "name": "stdout",
     "output_type": "stream",
     "text": [
      "| # | Team Number | Team Name | Wins/Worlds |\n",
      "| 1 | 5026 | [Iron Panthers](https://thebluealliance.com/team/5026) | 50.00% |\n",
      "| 2 | 3707 | [TechnoDogs](https://thebluealliance.com/team/3707) | 33.33% |\n",
      "| 3 | 5499 | [Bearium](https://thebluealliance.com/team/5499) | 25.00% |\n",
      "| 4 | 4272 | [Maverick Robotics](https://thebluealliance.com/team/4272) | 25.00% |\n",
      "| 5 | 4096 | [Ctrl-Z](https://thebluealliance.com/team/4096) | 25.00% |\n",
      "| 6 | 2976 | [The Spartabots](https://thebluealliance.com/team/2976) | 25.00% |\n",
      "| 7 | 254 | [The Cheesy Poofs](https://thebluealliance.com/team/254) | 22.73% |\n",
      "| 8 | 71 | [Team Hammond](https://thebluealliance.com/team/71) | 20.00% |\n",
      "| 9 | 973 | [Greybots](https://thebluealliance.com/team/973) | 20.00% |\n",
      "| 10 | 2767 | [Stryke Force](https://thebluealliance.com/team/2767) | 20.00% |\n",
      "| 11 | 3075 | [Ha-Dream Team](https://thebluealliance.com/team/3075) | 20.00% |\n",
      "| 12 | 2928 | [Viking Robotics](https://thebluealliance.com/team/2928) | 20.00% |\n",
      "| 13 | 5012 | [Gryffingear](https://thebluealliance.com/team/5012) | 20.00% |\n",
      "| 14 | 6672 | [Fusion Corps](https://thebluealliance.com/team/6672) | 20.00% |\n",
      "| 15 | 4414 | [HighTide](https://thebluealliance.com/team/4414) | 20.00% |\n",
      "| 16 | 1323 | [MadTown Robotics](https://thebluealliance.com/team/1323) | 17.65% |\n",
      "| 17 | 522 | [ROBO WIZARDS](https://thebluealliance.com/team/522) | 16.67% |\n",
      "| 18 | 4201 | [The Vitruvian Bots](https://thebluealliance.com/team/4201) | 16.67% |\n",
      "| 19 | 3175 | [Knight Vision](https://thebluealliance.com/team/3175) | 16.67% |\n",
      "| 20 | 217 | [ThunderChickens](https://thebluealliance.com/team/217) | 15.79% |\n",
      "| 21 | 294 | [Beach Cities Robotics](https://thebluealliance.com/team/294) | 14.29% |\n",
      "| 22 | 2609 | [BeaverworX](https://thebluealliance.com/team/2609) | 14.29% |\n",
      "| 23 | 2848 | [Rangers](https://thebluealliance.com/team/2848) | 14.29% |\n",
      "| 24 | 111 | [WildStang](https://thebluealliance.com/team/111) | 13.64% |\n",
      "| 25 | 67 | [The HOT Team](https://thebluealliance.com/team/67) | 13.64% |\n"
     ]
    }
   ],
   "source": [
    "print(\"| # | Team Number | Team Name | Wins/Worlds |\")\n",
    "\n",
    "for idx, (team_key, ratio) in enumerate(\n",
    "    sorted(\n",
    "        ((team_key, len(win_years[team_key]) / len(cmp_years[team_key]))\n",
    "         for team_key in cmp_years if team_key in win_years and len(cmp_years[team_key]) > 2),\n",
    "        key=lambda x: x[1],\n",
    "        reverse=True\n",
    "    )[:25], start=1\n",
    "):\n",
    "    team = ALL_TEAMS[team_key]\n",
    "    print(\n",
    "        f\"| {idx} | {team['team_number']} | [{team['nickname']}](https://thebluealliance.com/team/{team[\"team_number\"]}) | \"\n",
    "        f\"{ratio*100:.2f}% |\"\n",
    "    )"
   ]
  },
  {
   "cell_type": "code",
   "execution_count": 66,
   "id": "0e15ad90",
   "metadata": {},
   "outputs": [
    {
     "name": "stdout",
     "output_type": "stream",
     "text": [
      "| # | Team Number | Team Name | Wins/Total |\n",
      "| 1 | 254 | [The Cheesy Poofs](https://thebluealliance.com/team/254) | 21.74% |\n",
      "| 2 | 5026 | [Iron Panthers](https://thebluealliance.com/team/5026) | 20.00% |\n",
      "| 3 | 4414 | [HighTide](https://thebluealliance.com/team/4414) | 20.00% |\n",
      "| 4 | 5499 | [Bearium](https://thebluealliance.com/team/5499) | 16.67% |\n",
      "| 5 | 2708 | [Lake Effect Robotics](https://thebluealliance.com/team/2708) | 16.67% |\n",
      "| 6 | 1323 | [MadTown Robotics](https://thebluealliance.com/team/1323) | 15.00% |\n",
      "| 7 | 6672 | [Fusion Corps](https://thebluealliance.com/team/6672) | 14.29% |\n",
      "| 8 | 973 | [Greybots](https://thebluealliance.com/team/973) | 13.64% |\n",
      "| 9 | 2767 | [Stryke Force](https://thebluealliance.com/team/2767) | 13.33% |\n",
      "| 10 | 111 | [WildStang](https://thebluealliance.com/team/111) | 13.04% |\n",
      "| 11 | 217 | [ThunderChickens](https://thebluealliance.com/team/217) | 13.04% |\n",
      "| 12 | 71 | [Team Hammond](https://thebluealliance.com/team/71) | 13.04% |\n",
      "| 13 | 67 | [The HOT Team](https://thebluealliance.com/team/67) | 13.04% |\n",
      "| 14 | 65 | [The Huskie Brigade](https://thebluealliance.com/team/65) | 11.11% |\n",
      "| 15 | 330 | [The Beach Bots](https://thebluealliance.com/team/330) | 10.53% |\n",
      "| 16 | 5012 | [Gryffingear](https://thebluealliance.com/team/5012) | 10.00% |\n",
      "| 17 | 4481 | [Team Rembrandts](https://thebluealliance.com/team/4481) | 9.09% |\n",
      "| 18 | 4522 | [Team SCREAM](https://thebluealliance.com/team/4522) | 9.09% |\n",
      "| 19 | 469 | [Las Guerrillas](https://thebluealliance.com/team/469) | 8.70% |\n",
      "| 20 | 177 | [Bobcat Robotics](https://thebluealliance.com/team/177) | 8.70% |\n",
      "| 21 | 294 | [Beach Cities Robotics](https://thebluealliance.com/team/294) | 8.70% |\n",
      "| 22 | 148 | [Robowranglers](https://thebluealliance.com/team/148) | 8.70% |\n",
      "| 23 | 4201 | [The Vitruvian Bots](https://thebluealliance.com/team/4201) | 8.33% |\n",
      "| 24 | 4272 | [Maverick Robotics](https://thebluealliance.com/team/4272) | 8.33% |\n",
      "| 25 | 4096 | [Ctrl-Z](https://thebluealliance.com/team/4096) | 8.33% |\n"
     ]
    }
   ],
   "source": [
    "print(\"| # | Team Number | Team Name | Wins/Total |\")\n",
    "\n",
    "for idx, (team_key, ratio) in enumerate(\n",
    "    sorted(\n",
    "        ((team_key, len(win_years[team_key]) / len(team_seasons[team_key]))\n",
    "         for team_key in cmp_years if team_key in win_years and len(team_seasons[team_key]) > 2),\n",
    "        key=lambda x: x[1],\n",
    "        reverse=True\n",
    "    )[:25], start=1\n",
    "):\n",
    "    team = ALL_TEAMS[team_key]\n",
    "    print(\n",
    "        f\"| {idx} | {team['team_number']} | [{team['nickname']}](https://thebluealliance.com/team/{team[\"team_number\"]}) | \"\n",
    "        f\"{ratio*100:.2f}% |\"\n",
    "    )"
   ]
  },
  {
   "cell_type": "code",
   "execution_count": 57,
   "id": "4526e2ba",
   "metadata": {},
   "outputs": [
    {
     "name": "stdout",
     "output_type": "stream",
     "text": [
      "| # | Team Number | Team Name | Streak Years | Streak Length |\n",
      "| --- | --- | --- | --- | --- |\n",
      "| 1 | 365 | [Miracle Workerz](https://thebluealliance.com/team/365) | 2002-2025 | 22 seasons |\n",
      "| 2 | 341 | [Miss Daisy](https://thebluealliance.com/team/341) | 2004-2025 | 20 seasons |\n",
      "| 3 | 126 | [Gael Force](https://thebluealliance.com/team/126) | 2003-2019 | 17 seasons |\n",
      "| 4 | 191 | [X-CATS](https://thebluealliance.com/team/191) | 2003-2019 | 17 seasons |\n",
      "| 5 | 503 | [25 Years of Frog Force](https://thebluealliance.com/team/503) | 2007-2025 | 17 seasons |\n",
      "| 6 | 236 | [Techno-Ticks](https://thebluealliance.com/team/236) | 2004-2019 | 16 seasons |\n",
      "| 7 | 1305 | [Ice Cubed](https://thebluealliance.com/team/1305) | 2004-2019 | 16 seasons |\n",
      "| 8 | 1538 | [The Holy Cows](https://thebluealliance.com/team/1538) | 2008-2025 | 16 seasons |\n",
      "| 9 | 1629 | [Garrett Coalition (GaCo)](https://thebluealliance.com/team/1629) | 2008-2025 | 16 seasons |\n",
      "| 10 | 2486 | [CocoNuts](https://thebluealliance.com/team/2486) | 2009-2025 | 15 seasons |\n",
      "| 11 | 2337 | [EngiNERDs](https://thebluealliance.com/team/2337) | 2010-2025 | 14 seasons |\n",
      "| 12 | 329 | [Mohawks](https://thebluealliance.com/team/329) | 2007-2019 | 13 seasons |\n",
      "| 13 | 836 | [The RoboBees](https://thebluealliance.com/team/836) | 2011-2025 | 13 seasons |\n",
      "| 14 | 932 | [The Circuit Chargers](https://thebluealliance.com/team/932) | 2007-2019 | 13 seasons |\n",
      "| 15 | 2974 | [Walton Robotics](https://thebluealliance.com/team/2974) | 2011-2025 | 13 seasons |\n",
      "| 16 | 1902 | [Exploding Bacon](https://thebluealliance.com/team/1902) | 2012-2025 | 12 seasons |\n",
      "| 17 | 1918 | [NC GEARS](https://thebluealliance.com/team/1918) | 2009-2022 | 12 seasons |\n",
      "| 18 | 2468 | [Team Appreciate](https://thebluealliance.com/team/2468) | 2012-2025 | 12 seasons |\n",
      "| 19 | 2834 | [Bionic Black Hawks](https://thebluealliance.com/team/2834) | 2012-2025 | 12 seasons |\n",
      "| 20 | 151 | [Tough Techs](https://thebluealliance.com/team/151) | 2003-2013 | 11 seasons |\n",
      "| 21 | 3284 | [Camdenton  LASER 3284](https://thebluealliance.com/team/3284) | 2013-2025 | 11 seasons |\n",
      "| 22 | 33 | [Killer Bees](https://thebluealliance.com/team/33) | 2014-2025 | 10 seasons |\n",
      "| 23 | 1156 | [Under Control](https://thebluealliance.com/team/1156) | 2014-2025 | 10 seasons |\n",
      "| 24 | 1885 | [Comet Robotics](https://thebluealliance.com/team/1885) | 2011-2022 | 10 seasons |\n",
      "| 25 | 3937 | [Breakaway](https://thebluealliance.com/team/3937) | 2014-2025 | 10 seasons |\n",
      "\n",
      "| # | Team Number | Team Name | Start Year | Streak Length |\n",
      "| --- | --- | --- | --- | --- |\n",
      "| 1 | 365 | [Miracle Workerz](https://thebluealliance.com/team/365) | 2002 | 22 seasons |\n",
      "| 2 | 341 | [Miss Daisy](https://thebluealliance.com/team/341) | 2004 | 20 seasons |\n",
      "| 3 | 503 | [25 Years of Frog Force](https://thebluealliance.com/team/503) | 2007 | 17 seasons |\n",
      "| 4 | 1538 | [The Holy Cows](https://thebluealliance.com/team/1538) | 2008 | 16 seasons |\n",
      "| 5 | 1629 | [Garrett Coalition (GaCo)](https://thebluealliance.com/team/1629) | 2008 | 16 seasons |\n",
      "| 6 | 2486 | [CocoNuts](https://thebluealliance.com/team/2486) | 2009 | 15 seasons |\n",
      "| 7 | 2337 | [EngiNERDs](https://thebluealliance.com/team/2337) | 2010 | 14 seasons |\n",
      "| 8 | 836 | [The RoboBees](https://thebluealliance.com/team/836) | 2011 | 13 seasons |\n",
      "| 9 | 2974 | [Walton Robotics](https://thebluealliance.com/team/2974) | 2011 | 13 seasons |\n",
      "| 10 | 1902 | [Exploding Bacon](https://thebluealliance.com/team/1902) | 2012 | 12 seasons |\n",
      "| 11 | 2468 | [Team Appreciate](https://thebluealliance.com/team/2468) | 2012 | 12 seasons |\n",
      "| 12 | 2834 | [Bionic Black Hawks](https://thebluealliance.com/team/2834) | 2012 | 12 seasons |\n",
      "| 13 | 3284 | [Camdenton  LASER 3284](https://thebluealliance.com/team/3284) | 2013 | 11 seasons |\n",
      "| 14 | 33 | [Killer Bees](https://thebluealliance.com/team/33) | 2014 | 10 seasons |\n",
      "| 15 | 1156 | [Under Control](https://thebluealliance.com/team/1156) | 2014 | 10 seasons |\n",
      "| 16 | 3937 | [Breakaway](https://thebluealliance.com/team/3937) | 2014 | 10 seasons |\n",
      "| 17 | 3620 | [Average Joes](https://thebluealliance.com/team/3620) | 2014 | 10 seasons |\n",
      "| 18 | 4391 | [BraveBots](https://thebluealliance.com/team/4391) | 2014 | 10 seasons |\n",
      "| 19 | 1700 | [Gatorbotics](https://thebluealliance.com/team/1700) | 2015 | 9 seasons |\n",
      "| 20 | 4028 | [The Beak Squad](https://thebluealliance.com/team/4028) | 2015 | 9 seasons |\n",
      "| 21 | 4451 | [ROBOTZ Garage](https://thebluealliance.com/team/4451) | 2015 | 9 seasons |\n",
      "| 22 | 1023 | [Bedford Express](https://thebluealliance.com/team/1023) | 2016 | 8 seasons |\n",
      "| 23 | 359 | [Hawaiian Kids](https://thebluealliance.com/team/359) | 2016 | 8 seasons |\n",
      "| 24 | 1114 | [Simbotics](https://thebluealliance.com/team/1114) | 2016 | 8 seasons |\n",
      "| 25 | 1923 | [The MidKnight Inventors](https://thebluealliance.com/team/1923) | 2016 | 8 seasons |\n"
     ]
    }
   ],
   "source": [
    "def streaks(team_key: str) -> Generator[tuple[int, int, int], None, None]:\n",
    "    iterator = iter(cmp_years[team_key])\n",
    "    end_year = start_year = 0\n",
    "    for year in iterator:\n",
    "        if (\n",
    "            end_year == 0 or year == end_year + 1 or (year == 2022 and end_year == 2019)\n",
    "        ) and year not in einstein_years[team_key]:\n",
    "            if start_year == 0:\n",
    "                start_year = year\n",
    "            end_year = year\n",
    "            continue\n",
    "        if year not in einstein_years[team_key]:\n",
    "            start_year = end_year = year\n",
    "        else:\n",
    "            start_year = end_year = 0\n",
    "        yield start_year, end_year, (end_year - start_year - 1 if start_year <= 2019 and end_year >= 2022 else end_year - start_year + 1)\n",
    "    if start_year != end_year:\n",
    "        yield start_year, end_year, (end_year - start_year - 1 if start_year <= 2019 and end_year >= 2022 else end_year - start_year + 1)\n",
    "\n",
    "print(\"| # | Team Number | Team Name | Streak Years | Streak Length |\")\n",
    "print(\"| --- | --- | --- | --- | --- |\")\n",
    "\n",
    "for idx, (team_key, (start_year, end_year, length)) in enumerate(\n",
    "    sorted(\n",
    "        ((team_key, streak) for team_key in cmp_years for streak in streaks(team_key)),\n",
    "        key=lambda x: x[1][2],\n",
    "        reverse=True,\n",
    "    )[:25],\n",
    "    start=1,\n",
    "):\n",
    "    team = ALL_TEAMS[team_key]\n",
    "    print(\n",
    "        f\"| {idx} | {team['team_number']} | [{team['nickname']}](https://thebluealliance.com/team/{team[\"team_number\"]}) | \"\n",
    "        f\"{start_year}-{end_year} | {length} seasons |\"\n",
    "    )\n",
    "\n",
    "print()\n",
    "print(\"| # | Team Number | Team Name | Start Year | Streak Length |\")\n",
    "print(\"| --- | --- | --- | --- | --- |\")\n",
    "\n",
    "for idx, (team_key, (start_year, end_year, length)) in enumerate(\n",
    "    sorted(\n",
    "        ((team_key, streak) for team_key in cmp_years for streak in streaks(team_key) if streak[1] == 2025),\n",
    "        key=lambda x: x[1][2],\n",
    "        reverse=True,\n",
    "    )[:25],\n",
    "    start=1,\n",
    "):\n",
    "    team = ALL_TEAMS[team_key]\n",
    "    print(\n",
    "        f\"| {idx} | {team['team_number']} | [{team['nickname']}](https://thebluealliance.com/team/{team[\"team_number\"]}) | \"\n",
    "        f\"{start_year} | {length} seasons |\"\n",
    "    )"
   ]
  },
  {
   "cell_type": "code",
   "execution_count": null,
   "id": "f0d20877",
   "metadata": {},
   "outputs": [
    {
     "name": "stdout",
     "output_type": "stream",
     "text": [
      " 349 Team 349                       2001 (last competed)\n",
      "  75 RoboRaiders                    2001 (last competed)\n",
      "  85 B.O.B. (Built on Brains)       2001 (last competed)\n",
      " 115 MVRT                           2001 (last competed)\n",
      "  53 Area 53                        2001 (last competed)\n",
      " 122 NASA Knights                   2001 (last competed)\n",
      " 279 Tech Fusion                    2001 (last competed)\n",
      " 365 Miracle Workerz                2001 (last competed)\n",
      " 308 Monsters                       2002 (last competed)\n",
      " 311 Red Jammers                    2002 (last competed)\n",
      "  66 Grizzly Robotics               2002 (last competed)\n",
      "  65 The Huskie Brigade             2003 (last competed)\n",
      " 343 Metal-In-Motion                2003 (last competed)\n",
      " 236 Techno-Ticks                   2003 (last competed)\n",
      " 341 Miss Daisy                     2003 (last competed)\n",
      " 292 PantherTech                    2003 (last competed)\n",
      " 378 The Circuit Stompers           2003 (last competed)\n",
      " 340 G.R.R. (Greater Rochester Robotics) 2004 (last competed)\n",
      " 435 Robodogs                       2004 (last competed)\n",
      "1038 Lakota Robotics                2004 (last competed)\n"
     ]
    }
   ],
   "source": [
    "for team_key, last in sorted(\n",
    "    (\n",
    "        (team_key, comp_years[-1])\n",
    "        for team_key, comp_years in einstein_years.items()\n",
    "        if len(comp_years) >= 1\n",
    "    ),\n",
    "    key=lambda x: x[1],\n",
    ")[:20]:\n",
    "    team = ALL_TEAMS[team_key]\n",
    "    print(f\"{team['team_number']:>4} {team['nickname']:<30} {last:>4} (last competed)\")"
   ]
  }
 ],
 "metadata": {
  "kernelspec": {
   "display_name": "Python 3",
   "language": "python",
   "name": "python3"
  },
  "language_info": {
   "codemirror_mode": {
    "name": "ipython",
    "version": 3
   },
   "file_extension": ".py",
   "mimetype": "text/x-python",
   "name": "python",
   "nbconvert_exporter": "python",
   "pygments_lexer": "ipython3",
   "version": "3.13.3"
  }
 },
 "nbformat": 4,
 "nbformat_minor": 5
}
