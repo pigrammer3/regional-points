{
 "cells": [
  {
   "cell_type": "code",
   "execution_count": 6,
   "id": "aa45c0d2",
   "metadata": {},
   "outputs": [],
   "source": [
    "from tqdm.notebook import tqdm, trange\n",
    "import matplotlib.pyplot as plt\n",
    "from tba_types import Match, Event, SimpleMatch\n",
    "from tba_session import session, ROOT_URL\n",
    "from collections import defaultdict"
   ]
  },
  {
   "cell_type": "code",
   "execution_count": 7,
   "id": "dde4f307",
   "metadata": {},
   "outputs": [],
   "source": [
    "START_YEAR = 2013\n",
    "END_YEAR = 2025\n",
    "\n",
    "plt.rcParams['figure.figsize'] = (20, 10)"
   ]
  },
  {
   "cell_type": "code",
   "execution_count": 19,
   "id": "4e7607d9",
   "metadata": {},
   "outputs": [
    {
     "data": {
      "application/vnd.jupyter.widget-view+json": {
       "model_id": "e021c03bb9ee4c2591b672a9e64e84af",
       "version_major": 2,
       "version_minor": 0
      },
      "text/plain": [
       "  0%|          | 0/13 [00:00<?, ?year/s]"
      ]
     },
     "metadata": {},
     "output_type": "display_data"
    },
    {
     "data": {
      "application/vnd.jupyter.widget-view+json": {
       "model_id": "97295b90448042a8906f7269e80b5cc2",
       "version_major": 2,
       "version_minor": 0
      },
      "text/plain": [
       "  0%|          | 0/129 [00:00<?, ?event/s]"
      ]
     },
     "metadata": {},
     "output_type": "display_data"
    },
    {
     "data": {
      "application/vnd.jupyter.widget-view+json": {
       "model_id": "1dca1801639c4ecd8211abbf88ad6bed",
       "version_major": 2,
       "version_minor": 0
      },
      "text/plain": [
       "  0%|          | 0/166 [00:00<?, ?event/s]"
      ]
     },
     "metadata": {},
     "output_type": "display_data"
    },
    {
     "data": {
      "application/vnd.jupyter.widget-view+json": {
       "model_id": "489f57abb0d4441c8213649a438f9ef5",
       "version_major": 2,
       "version_minor": 0
      },
      "text/plain": [
       "  0%|          | 0/203 [00:00<?, ?event/s]"
      ]
     },
     "metadata": {},
     "output_type": "display_data"
    },
    {
     "data": {
      "application/vnd.jupyter.widget-view+json": {
       "model_id": "022f67e026f7420bb0b14a106eb6c814",
       "version_major": 2,
       "version_minor": 0
      },
      "text/plain": [
       "  0%|          | 0/256 [00:00<?, ?event/s]"
      ]
     },
     "metadata": {},
     "output_type": "display_data"
    },
    {
     "data": {
      "application/vnd.jupyter.widget-view+json": {
       "model_id": "8c5b0c7e8290454788ba83efb2c2c505",
       "version_major": 2,
       "version_minor": 0
      },
      "text/plain": [
       "  0%|          | 0/278 [00:00<?, ?event/s]"
      ]
     },
     "metadata": {},
     "output_type": "display_data"
    },
    {
     "data": {
      "application/vnd.jupyter.widget-view+json": {
       "model_id": "6748c7a03aae473185d63f9648261dd5",
       "version_major": 2,
       "version_minor": 0
      },
      "text/plain": [
       "  0%|          | 0/303 [00:00<?, ?event/s]"
      ]
     },
     "metadata": {},
     "output_type": "display_data"
    },
    {
     "data": {
      "application/vnd.jupyter.widget-view+json": {
       "model_id": "ea49058c698e4036bf0da0bb07b8836f",
       "version_major": 2,
       "version_minor": 0
      },
      "text/plain": [
       "  0%|          | 0/196 [00:00<?, ?event/s]"
      ]
     },
     "metadata": {},
     "output_type": "display_data"
    },
    {
     "data": {
      "application/vnd.jupyter.widget-view+json": {
       "model_id": "ebaa510d71954f6faf156b83d91b48ee",
       "version_major": 2,
       "version_minor": 0
      },
      "text/plain": [
       "  0%|          | 0/288 [00:00<?, ?event/s]"
      ]
     },
     "metadata": {},
     "output_type": "display_data"
    },
    {
     "data": {
      "application/vnd.jupyter.widget-view+json": {
       "model_id": "97aedcdecb06446fb274c9a1b16ed699",
       "version_major": 2,
       "version_minor": 0
      },
      "text/plain": [
       "  0%|          | 0/309 [00:00<?, ?event/s]"
      ]
     },
     "metadata": {},
     "output_type": "display_data"
    },
    {
     "data": {
      "application/vnd.jupyter.widget-view+json": {
       "model_id": "559816782df449028e834ae1f2bd6312",
       "version_major": 2,
       "version_minor": 0
      },
      "text/plain": [
       "  0%|          | 0/323 [00:00<?, ?event/s]"
      ]
     },
     "metadata": {},
     "output_type": "display_data"
    },
    {
     "data": {
      "application/vnd.jupyter.widget-view+json": {
       "model_id": "5fdb44120d784c0e9b08bcc6bb1195c7",
       "version_major": 2,
       "version_minor": 0
      },
      "text/plain": [
       "  0%|          | 0/222 [00:00<?, ?event/s]"
      ]
     },
     "metadata": {},
     "output_type": "display_data"
    }
   ],
   "source": [
    "blue_winrates = defaultdict(float)\n",
    "red_winrates = defaultdict(float)\n",
    "\n",
    "for year in trange(START_YEAR, END_YEAR + 1, unit=\"year\"):\n",
    "    if year == 2015 or year == 2021: continue\n",
    "    events: list[Event] = session.get(\n",
    "        f\"{ROOT_URL}/events/{year}\"\n",
    "    ).json()\n",
    "    idx = year - START_YEAR\n",
    "    for event in tqdm(events, unit=\"event\", leave=False):\n",
    "        if not 0 <= event[\"event_type\"] <= 5:\n",
    "            continue\n",
    "        matches: list[SimpleMatch] = session.get(\n",
    "            f\"{ROOT_URL}/event/{event[\"key\"]}/matches/simple\"\n",
    "        ).json()\n",
    "        red_wins = 0\n",
    "        blue_wins = 0\n",
    "        ties = 0\n",
    "        for match in filter(lambda m: m[\"comp_level\"] == \"qm\", matches):\n",
    "            if match[\"winning_alliance\"] == \"blue\":\n",
    "                blue_wins += 1\n",
    "            elif match[\"winning_alliance\"] == \"red\":\n",
    "                red_wins += 1\n",
    "            else:\n",
    "                ties += 1\n",
    "        total = red_wins + blue_wins + ties\n",
    "        if total == 0: continue\n",
    "        blue_winrates[event[\"key\"]] = blue_wins / total\n",
    "        red_winrates[event[\"key\"]] = red_wins / total"
   ]
  },
  {
   "cell_type": "code",
   "execution_count": 24,
   "id": "dee32d83",
   "metadata": {},
   "outputs": [
    {
     "name": "stdout",
     "output_type": "stream",
     "text": [
      "Event 2022on409 has a blue winrate of 20.83% and a red winrate of 79.17%\n",
      "Event 2022va319 has a blue winrate of 70.59% and a red winrate of 14.71%\n",
      "Event 2022dc320 has a blue winrate of 66.67% and a red winrate of 29.63%\n",
      "Event 2022dc312 has a blue winrate of 33.33% and a red winrate of 66.67%\n",
      "Event 2022on204 has a blue winrate of 66.67% and a red winrate of 33.33%\n",
      "Event 2017txda has a blue winrate of 31.94% and a red winrate of 63.89%\n",
      "Event 2017ncash has a blue winrate of 33.33% and a red winrate of 64.81%\n",
      "Event 2017onto1 has a blue winrate of 65.38% and a red winrate of 34.62%\n",
      "Event 2017mitry has a blue winrate of 64.63% and a red winrate of 35.37%\n",
      "Event 2016flwp has a blue winrate of 63.33% and a red winrate of 34.44%\n",
      "Event 2017miliv has a blue winrate of 63.41% and a red winrate of 35.37%\n",
      "Event 2018vabla has a blue winrate of 62.90% and a red winrate of 35.48%\n",
      "Event 2020txcha has a blue winrate of 35.48% and a red winrate of 62.90%\n",
      "Event 2017casd has a blue winrate of 61.36% and a red winrate of 34.09%\n",
      "Event 2024mosl has a blue winrate of 61.96% and a red winrate of 35.87%\n",
      "Event 2022on325 has a blue winrate of 62.96% and a red winrate of 37.04%\n",
      "Event 2023dal has a blue winrate of 61.54% and a red winrate of 36.92%\n",
      "Event 2017hop has a blue winrate of 61.61% and a red winrate of 37.50%\n",
      "Event 2019mikng has a blue winrate of 61.25% and a red winrate of 37.50%\n",
      "Event 2016milan has a blue winrate of 60.00% and a red winrate of 36.25%\n"
     ]
    }
   ],
   "source": [
    "for event, blue_winrate, red_winrate in sorted(zip(\n",
    "    blue_winrates.keys(), blue_winrates.values(), red_winrates.values()\n",
    "), key=lambda x: abs(x[1] - x[2]), reverse=True)[:20]:\n",
    "    print(\n",
    "        f\"Event {event} has a blue winrate of {blue_winrate*100:.2f}% and a red winrate of {red_winrate*100:.2f}%\"\n",
    "    )"
   ]
  },
  {
   "cell_type": "code",
   "execution_count": 9,
   "id": "22a80a50",
   "metadata": {},
   "outputs": [
    {
     "name": "stdout",
     "output_type": "stream",
     "text": [
      "1986 in 2017:\n",
      "Overall: 80.88% winrate (55/68), 92.8 average auto\n",
      "Red: 77.27% winrate (34/44), 99.1 average auto\n",
      "Blue: 87.50% winrate (21/24), 81.3 average auto\n"
     ]
    }
   ],
   "source": [
    "TEAM = \"frc1986\"\n",
    "YEAR = 2017\n",
    "\n",
    "team_events: list[Event] = session.get(\n",
    "    f\"{ROOT_URL}/team/{TEAM}/events\"\n",
    ").json()\n",
    "\n",
    "blue_matches = 0\n",
    "blue_wins = 0\n",
    "blue_auto = 0\n",
    "red_matches = 0\n",
    "red_wins = 0\n",
    "red_auto = 0\n",
    "\n",
    "for event in filter(lambda e: e[\"year\"] == YEAR and 0 <= e[\"event_type\"] <= 5, team_events):\n",
    "    matches: list[Match] = session.get(\n",
    "        f\"{ROOT_URL}/team/{TEAM}/event/{event[\"key\"]}/matches\"\n",
    "    ).json()\n",
    "    for match in matches:\n",
    "        if TEAM in match[\"alliances\"][\"blue\"][\"team_keys\"]:\n",
    "            blue_matches += 1\n",
    "            blue_wins += match[\"winning_alliance\"] == \"blue\"\n",
    "            blue_auto += match[\"score_breakdown\"][\"blue\"][\"autoPoints\"]\n",
    "            breakdown = match[\"score_breakdown\"][\"blue\"]\n",
    "        elif TEAM in match[\"alliances\"][\"red\"][\"team_keys\"]:\n",
    "            red_matches += 1\n",
    "            red_wins += match[\"winning_alliance\"] == \"red\"\n",
    "            red_auto += match[\"score_breakdown\"][\"red\"][\"autoPoints\"]\n",
    "\n",
    "print(f\"{TEAM[3:]} in {YEAR}:\")\n",
    "print(f\"Overall: {(red_wins + blue_wins) / (red_matches + blue_matches) * 100:.2f}% winrate ({red_wins + blue_wins}/{red_matches + blue_matches}), {(red_auto + blue_auto) / (red_matches + blue_matches):.1f} average auto\")\n",
    "print(f\"Red: {red_wins / red_matches * 100:.2f}% winrate ({red_wins}/{red_matches}), {red_auto / red_matches:.1f} average auto\")\n",
    "print(f\"Blue: {blue_wins / blue_matches * 100:.2f}% winrate ({blue_wins}/{blue_matches}), {blue_auto / blue_matches:.1f} average auto\")"
   ]
  }
 ],
 "metadata": {
  "kernelspec": {
   "display_name": "Python 3",
   "language": "python",
   "name": "python3"
  },
  "language_info": {
   "codemirror_mode": {
    "name": "ipython",
    "version": 3
   },
   "file_extension": ".py",
   "mimetype": "text/x-python",
   "name": "python",
   "nbconvert_exporter": "python",
   "pygments_lexer": "ipython3",
   "version": "3.13.3"
  }
 },
 "nbformat": 4,
 "nbformat_minor": 5
}
